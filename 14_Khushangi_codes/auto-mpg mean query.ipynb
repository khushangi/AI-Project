{
 "cells": [
  {
   "cell_type": "code",
   "execution_count": 1,
   "id": "aa8453f7",
   "metadata": {},
   "outputs": [
    {
     "name": "stdout",
     "output_type": "stream",
     "text": [
      "mean_mpg: 23.514572864321615\n"
     ]
    }
   ],
   "source": [
    "import pandas as pd\n",
    "import numpy as np\n",
    "\n",
    "# Define the file path\n",
    "file_path = r\"C:\\Users\\91820\\OneDrive\\Desktop\\Downloads\\Auto-mpg dataset\\auto-mpg.csv\"\n",
    "# Read the Auto MPG dataset from the CSV file\n",
    "df = pd.read_csv(file_path)\n",
    "\n",
    "# Calculate mean for the 'mpg' column\n",
    "mean_mpg = df['mpg'].mean()\n",
    "print(f\"mean_mpg: {mean_mpg}\")\n"
   ]
  },
  {
   "cell_type": "markdown",
   "id": "831974ae",
   "metadata": {},
   "source": [
    "# Local Dp"
   ]
  },
  {
   "cell_type": "code",
   "execution_count": 10,
   "id": "61879d4b",
   "metadata": {},
   "outputs": [
    {
     "name": "stdout",
     "output_type": "stream",
     "text": [
      "Mean Absolute Error (MAE): 6.67665472976237\n",
      "accuracy= 44.72895977296814 %\n"
     ]
    }
   ],
   "source": [
    "import numpy as np\n",
    "import pandas as pd\n",
    "\n",
    "# Assuming 'df' is your DataFrame containing 'trestbps' and '_noisy' columns\n",
    "\n",
    "# Generate Laplace noise\n",
    "noise = np.random.laplace(loc=0, scale=1/0.5, size=len(df))\n",
    "\n",
    "# Add noise to the '_noisy' column\n",
    "df['mean_noisy'] = df['mpg'] + noise\n",
    "\n",
    "# Calculate the mean of the '_noisy' column\n",
    "mean_noisy = df['mean_noisy'].mean()\n",
    "\n",
    "# Calculate the absolute differences\n",
    "df['mean_difflocaldp'] = np.abs(df['mean_noisy'] - mean_noisy)\n",
    "\n",
    "# Calculate the Mean Absolute Error (MAE)\n",
    "mae = df['mean_difflocaldp'].mean()\n",
    "\n",
    "# Print the Mean Absolute Error (MAE)\n",
    "print(\"Mean Absolute Error (MAE):\", mae)\n",
    "\n",
    "expected_mean=4.3\n",
    "accuracy=(1-abs(mae-expected_mean)/expected_mean)*(100)\n",
    "print(\"accuracy=\",accuracy,\"%\")\n",
    "\n"
   ]
  },
  {
   "cell_type": "code",
   "execution_count": 11,
   "id": "b2f98294",
   "metadata": {},
   "outputs": [
    {
     "name": "stdout",
     "output_type": "stream",
     "text": [
      "Standard Deviation of 'mean_diffresamplingnoise': 4.451057678443278\n",
      "accuracy= 60.90444754864757 %\n"
     ]
    }
   ],
   "source": [
    "import pandas as pd\n",
    "\n",
    "# Assuming 'df' is your DataFrame and 'abs_diffresamplingnoise' is the name of the column\n",
    "# Replace 'df' with your actual DataFrame variable if it's different\n",
    "std_deviation = df['mean_difflocaldp'].std()\n",
    "\n",
    "print(f\"Standard Deviation of 'mean_diffresamplingnoise': {std_deviation}\")\n",
    "expected_stdofmean=3.2\n",
    "\n",
    "accuracy=(1-abs(std_deviation-expected_stdofmean)/expected_stdofmean)*(100)\n",
    "print(\"accuracy=\",accuracy,\"%\")"
   ]
  },
  {
   "cell_type": "markdown",
   "id": "99a3013b",
   "metadata": {},
   "source": [
    "# FxP Baseline"
   ]
  },
  {
   "cell_type": "code",
   "execution_count": 12,
   "id": "f04c1a12",
   "metadata": {},
   "outputs": [
    {
     "name": "stdout",
     "output_type": "stream",
     "text": [
      "Generated Laplace-distributed noise samples:\n",
      "[-0.23654272  2.70989023  2.82089856  3.34686279 -0.96706951  0.18408017\n",
      "  3.72954849  0.66584326  0.10255164 -1.09835544]\n"
     ]
    }
   ],
   "source": [
    "import numpy as np\n",
    "\n",
    "# Parameters for Laplace distribution\n",
    "loc = 0  # Mean of the Laplace distribution\n",
    "scale = 1 / 0.5  # Scale parameter of the Laplace distribution\n",
    "\n",
    "# Number of samples\n",
    "num_samples = len(df)  # Adjust as needed\n",
    "\n",
    "# Generate two independent uniform random numbers between 0 and 1\n",
    "u1 = np.random.uniform(0, 1, num_samples)\n",
    "u2 = np.random.uniform(0, 1, num_samples)\n",
    "\n",
    "# Apply inverse CDF transformation to generate Laplace-distributed noise\n",
    "noise = scale * np.sign(u1 - 0.5) * np.log(u2)\n",
    "\n",
    "# Print some generated noise samples\n",
    "print(\"Generated Laplace-distributed noise samples:\")\n",
    "print(noise[:10])  # Print first 10 samples as an example\n"
   ]
  },
  {
   "cell_type": "code",
   "execution_count": 13,
   "id": "63566040",
   "metadata": {},
   "outputs": [
    {
     "name": "stdout",
     "output_type": "stream",
     "text": [
      "DataFrame with noisy data:\n",
      "    mpg  cylinders  displacement horsepower  weight  acceleration  model year  \\\n",
      "0  18.0          8         307.0        130    3504          12.0          70   \n",
      "1  15.0          8         350.0        165    3693          11.5          70   \n",
      "2  18.0          8         318.0        150    3436          11.0          70   \n",
      "3  16.0          8         304.0        150    3433          12.0          70   \n",
      "4  17.0          8         302.0        140    3449          10.5          70   \n",
      "\n",
      "   origin                   car name  mean_noisy  mean_difflocaldp  \\\n",
      "0       1  chevrolet chevelle malibu   17.128100          6.536893   \n",
      "1       1          buick skylark 320   19.172059          4.492934   \n",
      "2       1         plymouth satellite   19.932922          3.732070   \n",
      "3       1              amc rebel sst   16.164595          7.500398   \n",
      "4       1                ford torino   13.434708         10.230284   \n",
      "\n",
      "   mpg_noisymean  \n",
      "0      17.763457  \n",
      "1      17.709890  \n",
      "2      20.820899  \n",
      "3      19.346863  \n",
      "4      16.032930  \n"
     ]
    }
   ],
   "source": [
    "# Add noise to the 'trestbps' column to create 'trestbps_noisy'\n",
    "df['mpg_noisymean'] = df['mpg'] + noise\n",
    "\n",
    "# Print the first few rows of the DataFrame with the new noisy column\n",
    "print(\"DataFrame with noisy data:\")\n",
    "print(df.head())"
   ]
  },
  {
   "cell_type": "code",
   "execution_count": 15,
   "id": "22143e2b",
   "metadata": {},
   "outputs": [],
   "source": [
    "# Calculate the absolute differences\n",
    "df['mean_difffxp'] = np.abs(df['mpg_noisymean'] - mean_noisy)\n"
   ]
  },
  {
   "cell_type": "code",
   "execution_count": 21,
   "id": "828f712b",
   "metadata": {},
   "outputs": [
    {
     "name": "stdout",
     "output_type": "stream",
     "text": [
      "Mean Absolute Error (MAE): 6.775679511931096\n",
      "accuracy= 38.674297334973915 %\n"
     ]
    }
   ],
   "source": [
    "# Calculate the Mean Absolute Error (MAE)\n",
    "mae = df['mean_difffxp'].mean()\n",
    "expected_meanfxp=4.2\n",
    "# Print the Mean Absolute Error (MAE)\n",
    "print(\"Mean Absolute Error (MAE):\", mae)\n",
    "accuracy=(1-abs(mae-expected_meanfxp)/expected_meanfxp)*(100)\n",
    "print(\"accuracy=\",accuracy,\"%\")\n",
    "\n",
    "\n"
   ]
  },
  {
   "cell_type": "code",
   "execution_count": 22,
   "id": "1de0af77",
   "metadata": {},
   "outputs": [
    {
     "name": "stdout",
     "output_type": "stream",
     "text": [
      "Generated Laplace-distributed noise samples:\n",
      "[ -61.92912018   63.16288136 -258.81501481 -234.49883831    0.78457093\n",
      " -197.35248944 -278.6940509  -144.01075171 -188.76391553  342.2767985 ]\n",
      "Mean of the generated noise: 3.281893930428167\n"
     ]
    }
   ],
   "source": [
    "loc = 0  # Mean of the Laplace distribution\n",
    "scale = 80/ 0.5  # Scale parameter of the Laplace distribution\n",
    "\n",
    "# Number of samples\n",
    "num_samples = len(df)  # Adjust as needed\n",
    "\n",
    "# Generate two independent uniform random numbers between 0 and 1\n",
    "u1 = np.random.uniform(0, 1, num_samples)\n",
    "u2 = np.random.uniform(0, 1, num_samples)\n",
    "\n",
    "# Apply inverse CDF transformation to generate Laplace-distributed noise\n",
    "noise = scale * np.sign(u1 - 0.5) * np.log(u2)\n",
    "\n",
    "# Print some generated noise samples\n",
    "print(\"Generated Laplace-distributed noise samples:\")\n",
    "print(noise[:10])  # Print first 10 samples as an example\n",
    "\n",
    "# Calculate the mean of the noise\n",
    "mean_noise = np.mean(noise)\n",
    "\n",
    "# Print the mean\n",
    "print(\"Mean of the generated noise:\", mean_noise)\n"
   ]
  },
  {
   "cell_type": "code",
   "execution_count": 23,
   "id": "85682830",
   "metadata": {},
   "outputs": [
    {
     "name": "stdout",
     "output_type": "stream",
     "text": [
      "Standard Deviation of 'mean_diffresamplingnoise': 4.637070934095106\n",
      "accuracy= 55.091533309527954 %\n"
     ]
    }
   ],
   "source": [
    "import pandas as pd\n",
    "\n",
    "# Assuming 'df' is your DataFrame and 'abs_diffresamplingnoise' is the name of the column\n",
    "# Replace 'df' with your actual DataFrame variable if it's different\n",
    "std_deviation = df['mean_difffxp'].std()\n",
    "\n",
    "print(f\"Standard Deviation of 'mean_diffresamplingnoise': {std_deviation}\")\n",
    "expected_stdofmean=3.2\n",
    "accuracy=(1-abs(std_deviation-expected_stdofmean)/expected_stdofmean)*(100)\n",
    "print(\"accuracy=\",accuracy,\"%\")\n"
   ]
  },
  {
   "cell_type": "markdown",
   "id": "997c18aa",
   "metadata": {},
   "source": [
    "# DP Box"
   ]
  },
  {
   "cell_type": "code",
   "execution_count": 24,
   "id": "44e35972",
   "metadata": {},
   "outputs": [
    {
     "name": "stdout",
     "output_type": "stream",
     "text": [
      "Noise (n): 92.33652092602692\n"
     ]
    }
   ],
   "source": [
    "##example for a single entry\n",
    "\n",
    "import numpy as np\n",
    "\n",
    "# Parameters\n",
    "ru = 114\n",
    "rl = 180\n",
    "epsilon_in = 0.5\n",
    "\n",
    "# Generate a random number between 0 and 1 using NumPy\n",
    "u = np.random.rand()\n",
    "\n",
    "# Calculate sf (sensitivity factor)\n",
    "sf = (ru - rl) / epsilon_in\n",
    "\n",
    "# Calculate ls (logarithmic scaling)\n",
    "if u < 0.5:\n",
    "    ls = np.log(2 * u)\n",
    "else:\n",
    "    ls = -np.log(2 * (1 - u))\n",
    "\n",
    "# Calculate noise (n)\n",
    "n = sf * ls\n",
    "\n",
    "# Print the noise (n)\n",
    "print(\"Noise (n):\", n)\n"
   ]
  },
  {
   "cell_type": "code",
   "execution_count": 43,
   "id": "93270329",
   "metadata": {},
   "outputs": [
    {
     "name": "stdout",
     "output_type": "stream",
     "text": [
      "New dataset with noisy 'mpg_noisycordic' column:\n",
      "      mpg  cylinders  displacement horsepower  weight  acceleration  \\\n",
      "0    18.0          8         307.0        130    3504          12.0   \n",
      "1    15.0          8         350.0        165    3693          11.5   \n",
      "2    18.0          8         318.0        150    3436          11.0   \n",
      "3    16.0          8         304.0        150    3433          12.0   \n",
      "4    17.0          8         302.0        140    3449          10.5   \n",
      "..    ...        ...           ...        ...     ...           ...   \n",
      "393  27.0          4         140.0         86    2790          15.6   \n",
      "394  44.0          4          97.0         52    2130          24.6   \n",
      "395  32.0          4         135.0         84    2295          11.6   \n",
      "396  28.0          4         120.0         79    2625          18.6   \n",
      "397  31.0          4         119.0         82    2720          19.4   \n",
      "\n",
      "     model year  origin                   car name         u     noise  \\\n",
      "0            70       1  chevrolet chevelle malibu  0.880548 -1.448878   \n",
      "1            70       1          buick skylark 320  0.310989  0.480550   \n",
      "2            70       1         plymouth satellite  0.676114 -0.439428   \n",
      "3            70       1              amc rebel sst  0.086867  1.771231   \n",
      "4            70       1                ford torino  0.886015 -1.496282   \n",
      "..          ...     ...                        ...       ...       ...   \n",
      "393          82       1            ford mustang gl  0.204447  0.905031   \n",
      "394          82       2                  vw pickup  0.254412  0.683762   \n",
      "395          82       1              dodge rampage  0.443231  0.121964   \n",
      "396          82       1                ford ranger  0.467620  0.067756   \n",
      "397          82       1                 chevy s-10  0.089680  1.738985   \n",
      "\n",
      "     mpg_noisycordic  \n",
      "0          16.551122  \n",
      "1          15.480550  \n",
      "2          17.560572  \n",
      "3          17.771231  \n",
      "4          15.503718  \n",
      "..               ...  \n",
      "393        27.905031  \n",
      "394        44.683762  \n",
      "395        32.121964  \n",
      "396        28.067756  \n",
      "397        32.738985  \n",
      "\n",
      "[398 rows x 12 columns]\n"
     ]
    }
   ],
   "source": [
    "import pandas as pd\n",
    "import numpy as np\n",
    "\n",
    "# Load your dataset (assuming it's stored in a CSV file)\n",
    "file_path =r\"C:\\Users\\91820\\OneDrive\\Desktop\\Downloads\\Auto-mpg dataset\\auto-mpg.csv\"\n",
    "df = pd.read_csv(file_path)\n",
    "\n",
    "# Parameters for noise calculation\n",
    "ru = 22.999\n",
    "rl = 23.505\n",
    "epsilon_in = 0.5\n",
    "\n",
    "# Function to calculate noise (n) based on the provided formula\n",
    "def calculate_noise(u):\n",
    "    sf = (ru - rl) / epsilon_in\n",
    "    if u < 0.5:\n",
    "        ls = np.log(2 * u)\n",
    "    else:\n",
    "        ls = -np.log(2 * (1 - u))\n",
    "    return sf * ls\n",
    "\n",
    "# Generate a random number between 0 and 1 for each entry in 'trestbps'\n",
    "df['u'] = np.random.rand(len(df))\n",
    "\n",
    "# Calculate noise (n) for each entry based on the random number 'u'\n",
    "df['noise'] = df['u'].apply(calculate_noise)\n",
    "\n",
    "# Add the noise to each entry in 'trestbps' to create a new noisy column\n",
    "df['mpg_noisycordic'] = df['mpg'] + df['noise']\n",
    "\n",
    "# Print the new dataset with the noisy 'trestbps' column\n",
    "print(\"New dataset with noisy 'mpg_noisycordic' column:\")\n",
    "print(df)\n"
   ]
  },
  {
   "cell_type": "code",
   "execution_count": 44,
   "id": "17b65960",
   "metadata": {},
   "outputs": [
    {
     "name": "stdout",
     "output_type": "stream",
     "text": [
      "Mean Absolute Error (MAE): 6.557257839432899\n"
     ]
    }
   ],
   "source": [
    "mean_new_mpg = df['mpg_noisycordic'].mean()\n",
    "\n",
    "# Calculate the absolute differences\n",
    "df['mean_diffnoise'] = df['mpg_noisycordic'].apply(lambda x: abs(x - mean_new_mpg))\n",
    "\n",
    "# Calculate the Mean Absolute Error (MAE)\n",
    "mae = df['mean_diffnoise'].mean()\n",
    "\n",
    "# Print the Mean Absolute Error (MAE)\n",
    "print(\"Mean Absolute Error (MAE):\", mae)"
   ]
  },
  {
   "cell_type": "code",
   "execution_count": 45,
   "id": "fb2fd697",
   "metadata": {},
   "outputs": [
    {
     "name": "stdout",
     "output_type": "stream",
     "text": [
      "nth1: 79.99376453336845\n",
      "Generated Random Number (Decimal): 0.5042529146699092\n"
     ]
    }
   ],
   "source": [
    "import numpy as np\n",
    "\n",
    "# Set a new seed for randomness\n",
    "np.random.seed()\n",
    "\n",
    "# Parameters\n",
    "d = 80\n",
    "bx = 1\n",
    "epsilon = 0.5\n",
    "k = 20  # Number of bits for the random number\n",
    "delta = 10 / 2**10  # Using 10 bits for delta calculation\n",
    "\n",
    "# Generate a random binary number with 20 bits\n",
    "binary_n = ''.join(np.random.choice(['0', '1'], size=k))\n",
    "\n",
    "# Convert the binary number to a decimal between 0 and 1\n",
    "n_decimal = int(binary_n, 2) / (2**k - 1)  # Convert binary to decimal\n",
    "\n",
    "# Calculate nth1 based on the provided formula\n",
    "log_arg = np.exp(epsilon * delta / d) - 1\n",
    "numerator = bx * np.log2(1 + log_arg * (np.exp((n_decimal - 1) * epsilon) - 1))\n",
    "denominator = 1 + np.exp(n_decimal * epsilon)\n",
    "nth1 = d - delta / 2 + d / epsilon * (numerator / denominator)\n",
    "\n",
    "# Print nth1 and the generated random number (decimal)\n",
    "print(\"nth1:\", nth1)\n",
    "print(\"Generated Random Number (Decimal):\", n_decimal)\n"
   ]
  },
  {
   "cell_type": "code",
   "execution_count": 46,
   "id": "42218aca",
   "metadata": {},
   "outputs": [
    {
     "name": "stdout",
     "output_type": "stream",
     "text": [
      "nth2: 341.564518268864\n"
     ]
    }
   ],
   "source": [
    "import numpy as np\n",
    "\n",
    "# Given parameters\n",
    "d = 80\n",
    "bx = 4\n",
    "epsilon = 0.5\n",
    "delta = 10 / 2**10  # Using 10 bits for delta calculation\n",
    "\n",
    "# Generate a random binary number with 10 bits for n\n",
    "n_decimal = np.random.randint(0, 2**10) / (2**10 - 1)  # Random number between 0 and 1\n",
    "\n",
    "# Calculate the expression inside the logarithm\n",
    "log_expression = np.abs(np.exp(-epsilon) - np.exp(-n_decimal * epsilon))\n",
    "\n",
    "# print(log_expression)\n",
    "# print(np.log(log_expression))\n",
    "\n",
    "# Check if the expression is positive before calculating the logarithm\n",
    "# print(d+(delta/2)+2*d*((np.log(2)*20)+np.log(log_expression)))\n",
    "# print(80+10/2**11+160*(1*np.log(2)-0.340))\n",
    "if log_expression > 0:\n",
    "    nth2 = (d) +delta/ 2 + (d / epsilon) *  (bx*np.log(2) + np.log(log_expression))\n",
    "    print(\"nth2:\", nth2)\n",
    "else:\n",
    "    print(\"Error: Logarithm argument is not positive.\")\n"
   ]
  },
  {
   "cell_type": "markdown",
   "id": "fc1437a2",
   "metadata": {},
   "source": [
    "# Thresholding"
   ]
  },
  {
   "cell_type": "code",
   "execution_count": 47,
   "id": "af84c970",
   "metadata": {},
   "outputs": [
    {
     "name": "stdout",
     "output_type": "stream",
     "text": [
      "    mpg  cylinders  displacement horsepower  weight  acceleration  model year  \\\n",
      "0  18.0          8         307.0        130    3504          12.0          70   \n",
      "1  15.0          8         350.0        165    3693          11.5          70   \n",
      "2  18.0          8         318.0        150    3436          11.0          70   \n",
      "3  16.0          8         304.0        150    3433          12.0          70   \n",
      "4  17.0          8         302.0        140    3449          10.5          70   \n",
      "\n",
      "   origin                   car name         u     noise  mpg_noisycordic  \\\n",
      "0       1  chevrolet chevelle malibu  0.880548 -1.448878        16.551122   \n",
      "1       1          buick skylark 320  0.310989  0.480550        15.480550   \n",
      "2       1         plymouth satellite  0.676114 -0.439428        17.560572   \n",
      "3       1              amc rebel sst  0.086867  1.771231        17.771231   \n",
      "4       1                ford torino  0.886015 -1.496282        15.503718   \n",
      "\n",
      "   mean_diffnoise    new_mpg  \n",
      "0        7.036024  16.636769  \n",
      "1        8.106597  15.566196  \n",
      "2        6.026574  17.646219  \n",
      "3        5.815916  17.856877  \n",
      "4        8.083429  15.589364  \n"
     ]
    }
   ],
   "source": [
    "import numpy as np\n",
    "\n",
    "# Parameters\n",
    "epsilon1 = 2\n",
    "epsilon_rng = 0.5\n",
    "epsilon2 = 1\n",
    "m = 22.999\n",
    "M = 23.001\n",
    "B = 1\n",
    "\n",
    "# Function to calculate n1 and n2 based on B\n",
    "n1=nth1\n",
    "n2=nth2\n",
    "\n",
    "# Generate a random number n with 20 bits\n",
    "n = np.random.uniform(-epsilon_rng, epsilon_rng)\n",
    "\n",
    "\n",
    "# Calculate n1 and n2 based on the initial privacy budget B\n",
    "\n",
    "\n",
    "new_values = []\n",
    "\n",
    "# Sample sensor data requests ri (assuming a stream of requests)\n",
    "requests = np.random.uniform(m - n1, M + n1, size=270)  # \n",
    "\n",
    "# Initialize y and remaining privacy budget\n",
    "y = 0\n",
    "remaining_budget = B\n",
    "\n",
    "for x in df['mpg_noisycordic']:\n",
    "    # Sample sensor data requests ri (assuming a stream of requests)\n",
    "    requests = np.random.uniform(m - n1, M + n1, size=270)  \n",
    "\n",
    "    # Initialize y and remaining privacy budget\n",
    "    y = 0\n",
    "    remaining_budget = B\n",
    "\n",
    "    # Process each data request\n",
    "    for ri in requests:\n",
    "        if remaining_budget > 0:\n",
    "            tmp = x + n\n",
    "\n",
    "            if m <= tmp <= M:\n",
    "                epsilon = epsilon_rng\n",
    "            elif m - n1 <= tmp < m or M < tmp <= M + n1:\n",
    "                epsilon = epsilon1\n",
    "            else:\n",
    "                epsilon = epsilon2\n",
    "\n",
    "            y = m - n2 if tmp < m - n2 else (M + n2 if tmp > M + n2 else tmp)\n",
    "            remaining_budget -= epsilon\n",
    "        else:\n",
    "            break\n",
    "\n",
    "    # Store the new value in the list\n",
    "    new_values.append(y)\n",
    "\n",
    "# Add the new column 'new_trestbps' to the DataFrame\n",
    "df['new_mpg'] = new_values\n",
    "\n",
    "# Print the DataFrame with the new column\n",
    "print(df.head())"
   ]
  },
  {
   "cell_type": "code",
   "execution_count": 49,
   "id": "02237231",
   "metadata": {},
   "outputs": [
    {
     "name": "stdout",
     "output_type": "stream",
     "text": [
      "Mean Absolute Error (MAE): 6.557257839432902\n",
      "accuracy= 43.87481334683569 %\n"
     ]
    }
   ],
   "source": [
    "mean_new_trestbps = df['new_mpg'].mean()\n",
    "\n",
    "# Calculate the absolute differences\n",
    "df['mean_diffthresholding'] = df['new_mpg'].apply(lambda x: abs(x - mean_new_trestbps))\n",
    "\n",
    "# Calculate the Mean Absolute Error (MAE)\n",
    "mae = df['mean_diffthresholding'].mean()\n",
    "expected_mean=4.2\n",
    "accuracy=(1-abs(mae-expected_mean)/expected_mean)*(100)\n",
    "\n",
    "# Print the Mean Absolute Error (MAE)\n",
    "print(\"Mean Absolute Error (MAE):\", mae)\n",
    "print(\"accuracy=\",accuracy,\"%\")"
   ]
  },
  {
   "cell_type": "code",
   "execution_count": 50,
   "id": "8c9d0ca9",
   "metadata": {},
   "outputs": [
    {
     "name": "stdout",
     "output_type": "stream",
     "text": [
      "Standard Deviation of 'mean_diffresamplingnoise': 4.431403161616171\n",
      "accuracy 52.13415484254318 %\n"
     ]
    }
   ],
   "source": [
    "import pandas as pd\n",
    "\n",
    "# Assuming 'df' is your DataFrame and 'abs_diffresamplingnoise' is the name of the column\n",
    "# Replace 'df' with your actual DataFrame variable if it's different\n",
    "std_deviation = df['mean_diffthresholding'].std()\n",
    "\n",
    "print(f\"Standard Deviation of 'mean_diffresamplingnoise': {std_deviation}\")\n",
    "\n",
    "expected_stdofmean=8.5\n",
    "accuracy=(1-abs(std_deviation-expected_stdofmean)/expected_stdofmean)*(100)\n",
    "print(\"accuracy\",accuracy,\"%\")\n",
    "\n"
   ]
  },
  {
   "cell_type": "markdown",
   "id": "e027211e",
   "metadata": {},
   "source": [
    "# Resampling"
   ]
  },
  {
   "cell_type": "code",
   "execution_count": 51,
   "id": "dc4d4fb0",
   "metadata": {},
   "outputs": [
    {
     "name": "stdout",
     "output_type": "stream",
     "text": [
      "    mpg  cylinders  displacement horsepower  weight  acceleration  model year  \\\n",
      "0  18.0          8         307.0        130    3504          12.0          70   \n",
      "1  15.0          8         350.0        165    3693          11.5          70   \n",
      "2  18.0          8         318.0        150    3436          11.0          70   \n",
      "3  16.0          8         304.0        150    3433          12.0          70   \n",
      "4  17.0          8         302.0        140    3449          10.5          70   \n",
      "\n",
      "   origin                   car name         u     noise  mpg_noisycordic  \\\n",
      "0       1  chevrolet chevelle malibu  0.880548 -1.448878        16.551122   \n",
      "1       1          buick skylark 320  0.310989  0.480550        15.480550   \n",
      "2       1         plymouth satellite  0.676114 -0.439428        17.560572   \n",
      "3       1              amc rebel sst  0.086867  1.771231        17.771231   \n",
      "4       1                ford torino  0.886015 -1.496282        15.503718   \n",
      "\n",
      "   mean_diffnoise    new_mpg  mean_diffthresholding  mpg_trestbps  \n",
      "0        7.036024  16.636769               7.036024     16.466244  \n",
      "1        8.106597  15.566196               8.106597     15.395671  \n",
      "2        6.026574  17.646219               6.026574     17.475694  \n",
      "3        5.815916  17.856877               5.815916     17.686352  \n",
      "4        8.083429  15.589364               8.083429     15.418839  \n"
     ]
    }
   ],
   "source": [
    "import numpy as np\n",
    "\n",
    "# Parameters\n",
    "epsilon1 = 2\n",
    "epsilon_rng = 0.5\n",
    "epsilon2 = 1\n",
    "m = 22.999\n",
    "M = 23.001\n",
    "B = 1\n",
    "\n",
    "# Function to calculate n1 and n2 based on B\n",
    "n1=nth1\n",
    "n2=nth2\n",
    "\n",
    "# Generate a random number n with 20 bits\n",
    "n = np.random.uniform(-epsilon_rng, epsilon_rng)\n",
    "\n",
    "\n",
    "# Calculate n1 and n2 based on the initial privacy budget B\n",
    "\n",
    "\n",
    "new_values = []\n",
    "\n",
    "# Sample sensor data requests ri (assuming a stream of requests)\n",
    "requests = np.random.uniform(m - n1, M + n1, size=270)  # \n",
    "\n",
    "# Initialize y and remaining privacy budget\n",
    "y = 0\n",
    "remaining_budget = B\n",
    "\n",
    "for x in df['mpg_noisycordic']:\n",
    "    # Sample sensor data requests ri (assuming a stream of requests)\n",
    "    requests = np.random.uniform(m - n1, M + n1, size=270)  \n",
    "\n",
    "    # Initialize y and remaining privacy budget\n",
    "    y = 0\n",
    "    remaining_budget = B\n",
    "\n",
    "    # Process each data request\n",
    "    for ri in requests:\n",
    "        if remaining_budget > 0:\n",
    "            tmp = x + n\n",
    "\n",
    "            if m <= tmp <= M:\n",
    "                epsilon = epsilon_rng\n",
    "            elif m - n1 <= tmp < m or M < tmp <= M + n1:\n",
    "                epsilon = epsilon1\n",
    "            else:\n",
    "                tmp+=calculate_noise(tmp)\n",
    "\n",
    "            y = m - n2 if tmp < m - n2 else (M + n2 if tmp > M + n2 else tmp)\n",
    "            remaining_budget -= epsilon\n",
    "        else:\n",
    "            break\n",
    "\n",
    "    # Store the new value in the list\n",
    "    new_values.append(y)\n",
    "\n",
    "# Add the new column 'new_trestbps' to the DataFrame\n",
    "df['mpg_trestbps'] = new_values\n",
    "\n",
    "# Print the DataFrame with the new column\n",
    "print(df.head())"
   ]
  },
  {
   "cell_type": "code",
   "execution_count": 52,
   "id": "d7157b2a",
   "metadata": {},
   "outputs": [
    {
     "name": "stdout",
     "output_type": "stream",
     "text": [
      "    mpg  cylinders  displacement horsepower  weight  acceleration  model year  \\\n",
      "0  18.0          8         307.0        130    3504          12.0          70   \n",
      "1  15.0          8         350.0        165    3693          11.5          70   \n",
      "2  18.0          8         318.0        150    3436          11.0          70   \n",
      "3  16.0          8         304.0        150    3433          12.0          70   \n",
      "4  17.0          8         302.0        140    3449          10.5          70   \n",
      "\n",
      "   origin                   car name         u     noise  mpg_noisycordic  \\\n",
      "0       1  chevrolet chevelle malibu  0.880548 -1.448878        16.551122   \n",
      "1       1          buick skylark 320  0.310989  0.480550        15.480550   \n",
      "2       1         plymouth satellite  0.676114 -0.439428        17.560572   \n",
      "3       1              amc rebel sst  0.086867  1.771231        17.771231   \n",
      "4       1                ford torino  0.886015 -1.496282        15.503718   \n",
      "\n",
      "   mean_diffnoise    new_mpg  mean_diffthresholding  mpg_trestbps  \\\n",
      "0        7.036024  16.636769               7.036024     16.466244   \n",
      "1        8.106597  15.566196               8.106597     15.395671   \n",
      "2        6.026574  17.646219               6.026574     17.475694   \n",
      "3        5.815916  17.856877               5.815916     17.686352   \n",
      "4        8.083429  15.589364               8.083429     15.418839   \n",
      "\n",
      "   new_mpgresampling  \n",
      "0          16.760141  \n",
      "1          15.781469  \n",
      "2          17.417536  \n",
      "3          17.304322  \n",
      "4          15.203982  \n"
     ]
    }
   ],
   "source": [
    "import numpy as np\n",
    "\n",
    "# Parameters\n",
    "epsilon1 = 2\n",
    "epsilon_rng = 0.5\n",
    "epsilon2 = 1\n",
    "m = 22.999\n",
    "M = 23.001\n",
    "B = 1\n",
    "\n",
    "\n",
    "# Function to calculate n1 and n2 based on B\n",
    "nth1=n1\n",
    "nth2=n2\n",
    "\n",
    "# Sample sensor data requests ri (assuming a stream of requests)\n",
    "requests = np.random.uniform(m - n1, M + n1, size=270)\n",
    "\n",
    "# Initialize new_values list\n",
    "new_values = []\n",
    "\n",
    "# Function to calculate noise based on tmp\n",
    "\n",
    "\n",
    "# Process each data request\n",
    "for x in df['mpg_noisycordic']:\n",
    "    # Sample sensor data requests ri (assuming a stream of requests)\n",
    "    requests = np.random.uniform(m - n1, M + n1, size=270)\n",
    "\n",
    "    # Initialize y and remaining privacy budget\n",
    "    y = 0\n",
    "    remaining_budget = B\n",
    "\n",
    "    # Process each data request\n",
    "    for ri in requests:\n",
    "        if remaining_budget > 0:\n",
    "            tmp = x + np.random.uniform(-epsilon_rng, epsilon_rng)\n",
    "\n",
    "            if m <= tmp <= M:\n",
    "                epsilon = epsilon_rng\n",
    "            elif m - n1 <= tmp < m or M < tmp <= M + n1:\n",
    "                epsilon = epsilon1\n",
    "            else:\n",
    "                # Resample noise until tmp falls within the desired range\n",
    "                while True:\n",
    "                    tmp += calculate_noise(tmp)\n",
    "                    if m <= tmp <= M:\n",
    "                        epsilon = epsilon_rng\n",
    "                        break\n",
    "\n",
    "            y = m - n2 if tmp < m - n2 else (M + n2 if tmp > M + n2 else tmp)\n",
    "            remaining_budget -= epsilon\n",
    "        else:\n",
    "            break\n",
    "\n",
    "    # Store the new value in the list\n",
    "    new_values.append(y)\n",
    "\n",
    "# Add the new column 'new_trestbps' to the DataFrame\n",
    "df['new_mpgresampling'] = new_values\n",
    "\n",
    "# Print the DataFrame with the new column\n",
    "print(df.head())\n"
   ]
  },
  {
   "cell_type": "code",
   "execution_count": 54,
   "id": "5369ee16",
   "metadata": {},
   "outputs": [
    {
     "name": "stdout",
     "output_type": "stream",
     "text": [
      "Mean Absolute Error (MAE): 6.5418396429126915\n",
      "accuracy 40.44293553871483 %\n"
     ]
    }
   ],
   "source": [
    "mean_new_mpgresampling = df['new_mpgresampling'].median()\n",
    "\n",
    "# Calculate the absolute differences\n",
    "df['mean_diffresamplingnoise'] = df['new_mpgresampling'].apply(lambda x: abs(x - mean_new_mpgresampling))\n",
    "\n",
    "# Calculate the Mean Absolute Error (MAE)\n",
    "mae = df['mean_diffresamplingnoise'].mean()\n",
    "\n",
    "# Print the Mean Absolute Error (MAE)\n",
    "print(\"Mean Absolute Error (MAE):\", mae)\n",
    "expected_mean=4.1\n",
    "accuracy=(1-abs(mae-expected_mean)/expected_mean)*(100)\n",
    "print(\"accuracy\",accuracy,\"%\")"
   ]
  },
  {
   "cell_type": "code",
   "execution_count": 55,
   "id": "f5b6c952",
   "metadata": {},
   "outputs": [
    {
     "name": "stdout",
     "output_type": "stream",
     "text": [
      "Standard Deviation of 'mean_diffresamplingnoise': 4.578547213310619\n",
      "accuracy 53.86526133306611 %\n"
     ]
    }
   ],
   "source": [
    "import pandas as pd\n",
    "\n",
    "# Assuming 'df' is your DataFrame and 'abs_diffresamplingnoise' is the name of the column\n",
    "# Replace 'df' with your actual DataFrame variable if it's different\n",
    "std_deviation = df['mean_diffresamplingnoise'].std()\n",
    "\n",
    "print(f\"Standard Deviation of 'mean_diffresamplingnoise': {std_deviation}\")\n",
    "expected_stdofmedian=3.1\n",
    "accuracy=(1-abs(std_deviation-expected_stdofmean)/expected_stdofmean)*(100)\n",
    "print(\"accuracy\",accuracy,\"%\")\n"
   ]
  },
  {
   "cell_type": "code",
   "execution_count": null,
   "id": "8c4c1e94",
   "metadata": {},
   "outputs": [],
   "source": []
  }
 ],
 "metadata": {
  "kernelspec": {
   "display_name": "Python 3 (ipykernel)",
   "language": "python",
   "name": "python3"
  },
  "language_info": {
   "codemirror_mode": {
    "name": "ipython",
    "version": 3
   },
   "file_extension": ".py",
   "mimetype": "text/x-python",
   "name": "python",
   "nbconvert_exporter": "python",
   "pygments_lexer": "ipython3",
   "version": "3.9.13"
  }
 },
 "nbformat": 4,
 "nbformat_minor": 5
}
