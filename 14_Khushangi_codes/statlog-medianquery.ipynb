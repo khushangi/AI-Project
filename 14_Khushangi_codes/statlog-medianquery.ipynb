{
 "cells": [
  {
   "cell_type": "code",
   "execution_count": 1,
   "id": "aa8453f7",
   "metadata": {},
   "outputs": [
    {
     "name": "stdout",
     "output_type": "stream",
     "text": [
      "Mean Bp: 130.0\n"
     ]
    }
   ],
   "source": [
    "import pandas as pd\n",
    "import numpy as np\n",
    "\n",
    "# Define the file path\n",
    "file_path = r\"C:\\Users\\91820\\OneDrive\\Desktop\\Downloads\\satlog dataset\\statlog.csv\"\n",
    "# Read the Auto MPG dataset from the CSV file\n",
    "df = pd.read_csv(file_path)\n",
    "\n",
    "# Calculate mean for the 'mpg' column\n",
    "median_bp = df['trestbps'].median()\n",
    "print(f\"Mean Bp: {median_bp}\")\n"
   ]
  },
  {
   "cell_type": "markdown",
   "id": "831974ae",
   "metadata": {},
   "source": [
    "# Local Dp"
   ]
  },
  {
   "cell_type": "code",
   "execution_count": 6,
   "id": "61879d4b",
   "metadata": {},
   "outputs": [
    {
     "name": "stdout",
     "output_type": "stream",
     "text": [
      "Mean Absolute Error (MAE): 13.819066794664717\n",
      "accuracy= 74.37212004850258 %\n"
     ]
    }
   ],
   "source": [
    "import numpy as np\n",
    "import pandas as pd\n",
    "\n",
    "# Assuming 'df' is your DataFrame containing 'trestbps' and '_noisy' columns\n",
    "\n",
    "# Generate Laplace noise\n",
    "noise = np.random.laplace(loc=0, scale=1/0.5, size=len(df))\n",
    "\n",
    "# Add noise to the '_noisy' column\n",
    "df['_noisy'] = df['trestbps'] + noise\n",
    "\n",
    "# Calculate the mean of the '_noisy' column\n",
    "median_noisy = df['_noisy'].median()\n",
    "\n",
    "# Calculate the absolute differences\n",
    "df['median_difflocaldp'] = np.abs(df['_noisy'] - median_noisy)\n",
    "\n",
    "# Calculate the Mean Absolute Error (MAE)\n",
    "mae = df['median_difflocaldp'].mean()\n",
    "\n",
    "# Print the Mean Absolute Error (MAE)\n",
    "print(\"Mean Absolute Error (MAE):\", mae)\n",
    "\n",
    "expected_median=11\n",
    "accuracy=(1-abs(mae-expected_median)/expected_median)*(100)\n",
    "print(\"accuracy=\",accuracy,\"%\")\n",
    "\n"
   ]
  },
  {
   "cell_type": "code",
   "execution_count": 7,
   "id": "b2f98294",
   "metadata": {},
   "outputs": [
    {
     "name": "stdout",
     "output_type": "stream",
     "text": [
      "Standard Deviation of 'abs_diffresamplingnoise': 11.483275240607744\n",
      "accuracy= 63.29434237371734 %\n"
     ]
    }
   ],
   "source": [
    "import pandas as pd\n",
    "\n",
    "# Assuming 'df' is your DataFrame and 'abs_diffresamplingnoise' is the name of the column\n",
    "# Replace 'df' with your actual DataFrame variable if it's different\n",
    "std_deviation = df['median_difflocaldp'].std()\n",
    "\n",
    "print(f\"Standard Deviation of 'abs_diffresamplingnoise': {std_deviation}\")\n",
    "expected_stdofmedian=8.4\n",
    "\n",
    "accuracy=(1-abs(std_deviation-expected_stdofmedian)/expected_stdofmedian)*(100)\n",
    "print(\"accuracy=\",accuracy,\"%\")"
   ]
  },
  {
   "cell_type": "markdown",
   "id": "99a3013b",
   "metadata": {},
   "source": [
    "# FxP Baseline"
   ]
  },
  {
   "cell_type": "code",
   "execution_count": 8,
   "id": "f04c1a12",
   "metadata": {},
   "outputs": [
    {
     "name": "stdout",
     "output_type": "stream",
     "text": [
      "Generated Laplace-distributed noise samples:\n",
      "[ 0.28428483  0.94010707  2.6882817  -2.05997407 -0.86824746 -0.08316283\n",
      "  1.04136879 -0.2750637   1.22715364  2.62850831]\n"
     ]
    }
   ],
   "source": [
    "import numpy as np\n",
    "\n",
    "# Parameters for Laplace distribution\n",
    "loc = 0  # Mean of the Laplace distribution\n",
    "scale = 1 / 0.5  # Scale parameter of the Laplace distribution\n",
    "\n",
    "# Number of samples\n",
    "num_samples = len(df)  # Adjust as needed\n",
    "\n",
    "# Generate two independent uniform random numbers between 0 and 1\n",
    "u1 = np.random.uniform(0, 1, num_samples)\n",
    "u2 = np.random.uniform(0, 1, num_samples)\n",
    "\n",
    "# Apply inverse CDF transformation to generate Laplace-distributed noise\n",
    "noise = scale * np.sign(u1 - 0.5) * np.log(u2)\n",
    "\n",
    "# Print some generated noise samples\n",
    "print(\"Generated Laplace-distributed noise samples:\")\n",
    "print(noise[:10])  # Print first 10 samples as an example\n"
   ]
  },
  {
   "cell_type": "code",
   "execution_count": 9,
   "id": "63566040",
   "metadata": {},
   "outputs": [
    {
     "name": "stdout",
     "output_type": "stream",
     "text": [
      "DataFrame with noisy data:\n",
      "    age  sex   cp  trestbps   chol  fbs  restecg  thalach  exang  oldpeak  \\\n",
      "0  70.0  1.0  4.0     130.0  322.0  0.0      2.0    109.0    0.0      2.4   \n",
      "1  67.0  0.0  3.0     115.0  564.0  0.0      2.0    160.0    0.0      1.6   \n",
      "2  57.0  1.0  2.0     124.0  261.0  0.0      0.0    141.0    0.0      0.3   \n",
      "3  64.0  1.0  4.0     128.0  263.0  0.0      0.0    105.0    1.0      0.2   \n",
      "4  74.0  0.0  2.0     120.0  269.0  0.0      2.0    121.0    1.0      0.2   \n",
      "\n",
      "   slope   ca  thal  presence      _noisy  median_difflocaldp  \\\n",
      "0    2.0  3.0   3.0         2  128.457851            1.458954   \n",
      "1    2.0  0.0   7.0         1  116.313117           13.603688   \n",
      "2    1.0  0.0   7.0         2  126.995899            2.920906   \n",
      "3    2.0  1.0   7.0         1  127.857102            2.059703   \n",
      "4    1.0  1.0   3.0         1  118.322303           11.594503   \n",
      "\n",
      "   trestbps_noisymedian  \n",
      "0            130.284285  \n",
      "1            115.940107  \n",
      "2            126.688282  \n",
      "3            125.940026  \n",
      "4            119.131753  \n"
     ]
    }
   ],
   "source": [
    "# Add noise to the 'trestbps' column to create 'trestbps_noisy'\n",
    "df['trestbps_noisymedian'] = df['trestbps'] + noise\n",
    "\n",
    "# Print the first few rows of the DataFrame with the new noisy column\n",
    "print(\"DataFrame with noisy data:\")\n",
    "print(df.head())"
   ]
  },
  {
   "cell_type": "code",
   "execution_count": 10,
   "id": "22143e2b",
   "metadata": {},
   "outputs": [],
   "source": [
    "# Calculate the absolute differences\n",
    "df['median_difffxp'] = np.abs(df['trestbps_noisymedian'] - median_noisy)\n"
   ]
  },
  {
   "cell_type": "code",
   "execution_count": 11,
   "id": "828f712b",
   "metadata": {},
   "outputs": [
    {
     "name": "stdout",
     "output_type": "stream",
     "text": [
      "Mean Absolute Error (MAE): 13.997600355425748\n",
      "accuracy= 72.74908767794774 %\n"
     ]
    }
   ],
   "source": [
    "# Calculate the Mean Absolute Error (MAE)\n",
    "mae = df['median_difffxp'].mean()\n",
    "expected_medianfxp=11\n",
    "# Print the Mean Absolute Error (MAE)\n",
    "print(\"Mean Absolute Error (MAE):\", mae)\n",
    "accuracy=(1-abs(mae-expected_medianfxp)/expected_medianfxp)*(100)\n",
    "print(\"accuracy=\",accuracy,\"%\")\n",
    "\n",
    "\n"
   ]
  },
  {
   "cell_type": "code",
   "execution_count": 12,
   "id": "1de0af77",
   "metadata": {},
   "outputs": [
    {
     "name": "stdout",
     "output_type": "stream",
     "text": [
      "Generated Laplace-distributed noise samples:\n",
      "[  50.55511831  160.7232488  -359.23907449   17.32995865   24.17606775\n",
      "  209.42320647    7.91881579  -23.03273841    8.56277473  -52.45262452]\n",
      "Mean of the generated noise: 6.52542681192695\n"
     ]
    }
   ],
   "source": [
    "loc = 0  # Mean of the Laplace distribution\n",
    "scale = 80/ 0.5  # Scale parameter of the Laplace distribution\n",
    "\n",
    "# Number of samples\n",
    "num_samples = len(df)  # Adjust as needed\n",
    "\n",
    "# Generate two independent uniform random numbers between 0 and 1\n",
    "u1 = np.random.uniform(0, 1, num_samples)\n",
    "u2 = np.random.uniform(0, 1, num_samples)\n",
    "\n",
    "# Apply inverse CDF transformation to generate Laplace-distributed noise\n",
    "noise = scale * np.sign(u1 - 0.5) * np.log(u2)\n",
    "\n",
    "# Print some generated noise samples\n",
    "print(\"Generated Laplace-distributed noise samples:\")\n",
    "print(noise[:10])  # Print first 10 samples as an example\n",
    "\n",
    "# Calculate the mean of the noise\n",
    "mean_noise = np.mean(noise)\n",
    "\n",
    "# Print the mean\n",
    "print(\"Mean of the generated noise:\", mean_noise)\n"
   ]
  },
  {
   "cell_type": "code",
   "execution_count": 13,
   "id": "85682830",
   "metadata": {},
   "outputs": [
    {
     "name": "stdout",
     "output_type": "stream",
     "text": [
      "Standard Deviation of 'median_diffresamplingnoise': 11.449797350209334\n",
      "accuracy= 65.29650176224312 %\n"
     ]
    }
   ],
   "source": [
    "import pandas as pd\n",
    "\n",
    "# Assuming 'df' is your DataFrame and 'abs_diffresamplingnoise' is the name of the column\n",
    "# Replace 'df' with your actual DataFrame variable if it's different\n",
    "std_deviation = df['median_difffxp'].std()\n",
    "\n",
    "print(f\"Standard Deviation of 'median_diffresamplingnoise': {std_deviation}\")\n",
    "expected_stdofmedian=8.5\n",
    "accuracy=(1-abs(std_deviation-expected_stdofmedian)/expected_stdofmedian)*(100)\n",
    "print(\"accuracy=\",accuracy,\"%\")\n"
   ]
  },
  {
   "cell_type": "markdown",
   "id": "997c18aa",
   "metadata": {},
   "source": [
    "# DP Box"
   ]
  },
  {
   "cell_type": "code",
   "execution_count": 14,
   "id": "44e35972",
   "metadata": {},
   "outputs": [
    {
     "name": "stdout",
     "output_type": "stream",
     "text": [
      "Noise (n): 149.28832625221656\n"
     ]
    }
   ],
   "source": [
    "##example for a single entry\n",
    "\n",
    "import numpy as np\n",
    "\n",
    "# Parameters\n",
    "ru = 114\n",
    "rl = 180\n",
    "epsilon_in = 0.5\n",
    "\n",
    "# Generate a random number between 0 and 1 using NumPy\n",
    "u = np.random.rand()\n",
    "\n",
    "# Calculate sf (sensitivity factor)\n",
    "sf = (ru - rl) / epsilon_in\n",
    "\n",
    "# Calculate ls (logarithmic scaling)\n",
    "if u < 0.5:\n",
    "    ls = np.log(2 * u)\n",
    "else:\n",
    "    ls = -np.log(2 * (1 - u))\n",
    "\n",
    "# Calculate noise (n)\n",
    "n = sf * ls\n",
    "\n",
    "# Print the noise (n)\n",
    "print(\"Noise (n):\", n)\n"
   ]
  },
  {
   "cell_type": "code",
   "execution_count": 15,
   "id": "93270329",
   "metadata": {},
   "outputs": [
    {
     "name": "stdout",
     "output_type": "stream",
     "text": [
      "New dataset with noisy 'trestbps' column:\n",
      "      age  sex   cp  trestbps   chol  fbs  restecg  thalach  exang  oldpeak  \\\n",
      "0    70.0  1.0  4.0     130.0  322.0  0.0      2.0    109.0    0.0      2.4   \n",
      "1    67.0  0.0  3.0     115.0  564.0  0.0      2.0    160.0    0.0      1.6   \n",
      "2    57.0  1.0  2.0     124.0  261.0  0.0      0.0    141.0    0.0      0.3   \n",
      "3    64.0  1.0  4.0     128.0  263.0  0.0      0.0    105.0    1.0      0.2   \n",
      "4    74.0  0.0  2.0     120.0  269.0  0.0      2.0    121.0    1.0      0.2   \n",
      "..    ...  ...  ...       ...    ...  ...      ...      ...    ...      ...   \n",
      "265  52.0  1.0  3.0     172.0  199.0  1.0      0.0    162.0    0.0      0.5   \n",
      "266  44.0  1.0  2.0     120.0  263.0  0.0      0.0    173.0    0.0      0.0   \n",
      "267  56.0  0.0  2.0     140.0  294.0  0.0      2.0    153.0    0.0      1.3   \n",
      "268  57.0  1.0  4.0     140.0  192.0  0.0      0.0    148.0    0.0      0.4   \n",
      "269  67.0  1.0  4.0     160.0  286.0  0.0      2.0    108.0    1.0      1.5   \n",
      "\n",
      "     slope   ca  thal  presence         u     noise  trestbps_noisycordic  \n",
      "0      2.0  3.0   3.0         2  0.214329  3.388390            133.388390  \n",
      "1      2.0  0.0   7.0         1  0.242623  2.892393            117.892393  \n",
      "2      1.0  0.0   7.0         2  0.796708 -3.599855            120.400145  \n",
      "3      2.0  1.0   7.0         1  0.201454  3.636187            131.636187  \n",
      "4      1.0  1.0   3.0         1  0.625671 -1.157897            118.842103  \n",
      "..     ...  ...   ...       ...       ...       ...                   ...  \n",
      "265    1.0  0.0   7.0         1  0.363270  1.277843            173.277843  \n",
      "266    1.0  0.0   7.0         1  0.376176  1.138209            121.138209  \n",
      "267    2.0  0.0   3.0         1  0.075270  7.574108            147.574108  \n",
      "268    2.0  0.0   6.0         1  0.879578 -5.694409            134.305591  \n",
      "269    2.0  3.0   3.0         2  0.322763  1.750758            161.750758  \n",
      "\n",
      "[270 rows x 17 columns]\n"
     ]
    }
   ],
   "source": [
    "import pandas as pd\n",
    "import numpy as np\n",
    "\n",
    "# Load your dataset (assuming it's stored in a CSV file)\n",
    "file_path = r'C:\\Users\\91820\\OneDrive\\Desktop\\Downloads\\satlog dataset\\statlog.csv'\n",
    "df = pd.read_csv(file_path)\n",
    "\n",
    "# Parameters for noise calculation\n",
    "ru = 144\n",
    "rl = 146\n",
    "epsilon_in = 0.5\n",
    "\n",
    "# Function to calculate noise (n) based on the provided formula\n",
    "def calculate_noise(u):\n",
    "    sf = (ru - rl) / epsilon_in\n",
    "    if u < 0.5:\n",
    "        ls = np.log(2 * u)\n",
    "    else:\n",
    "        ls = -np.log(2 * (1 - u))\n",
    "    return sf * ls\n",
    "\n",
    "# Generate a random number between 0 and 1 for each entry in 'trestbps'\n",
    "df['u'] = np.random.rand(len(df))\n",
    "\n",
    "# Calculate noise (n) for each entry based on the random number 'u'\n",
    "df['noise'] = df['u'].apply(calculate_noise)\n",
    "\n",
    "# Add the noise to each entry in 'trestbps' to create a new noisy column\n",
    "df['trestbps_noisycordic'] = df['trestbps'] + df['noise']\n",
    "\n",
    "# Print the new dataset with the noisy 'trestbps' column\n",
    "print(\"New dataset with noisy 'trestbps' column:\")\n",
    "print(df)\n"
   ]
  },
  {
   "cell_type": "code",
   "execution_count": 16,
   "id": "17b65960",
   "metadata": {},
   "outputs": [
    {
     "name": "stdout",
     "output_type": "stream",
     "text": [
      "Mean Absolute Error (MAE): 15.253812662404407\n"
     ]
    }
   ],
   "source": [
    "median_new_trestbps = df['trestbps_noisycordic'].median()\n",
    "\n",
    "# Calculate the absolute differences\n",
    "df['median_diffnoise'] = df['trestbps_noisycordic'].apply(lambda x: abs(x - median_new_trestbps))\n",
    "\n",
    "# Calculate the Mean Absolute Error (MAE)\n",
    "mae = df['median_diffnoise'].mean()\n",
    "\n",
    "# Print the Mean Absolute Error (MAE)\n",
    "print(\"Mean Absolute Error (MAE):\", mae)"
   ]
  },
  {
   "cell_type": "code",
   "execution_count": 17,
   "id": "fb2fd697",
   "metadata": {},
   "outputs": [
    {
     "name": "stdout",
     "output_type": "stream",
     "text": [
      "nth1: 79.994006016261\n",
      "Generated Random Number (Decimal): 0.5912147438189924\n"
     ]
    }
   ],
   "source": [
    "import numpy as np\n",
    "\n",
    "# Set a new seed for randomness\n",
    "np.random.seed()\n",
    "\n",
    "# Parameters\n",
    "d = 80\n",
    "bx = 1\n",
    "epsilon = 0.5\n",
    "k = 20  # Number of bits for the random number\n",
    "delta = 10 / 2**10  # Using 10 bits for delta calculation\n",
    "\n",
    "# Generate a random binary number with 20 bits\n",
    "binary_n = ''.join(np.random.choice(['0', '1'], size=k))\n",
    "\n",
    "# Convert the binary number to a decimal between 0 and 1\n",
    "n_decimal = int(binary_n, 2) / (2**k - 1)  # Convert binary to decimal\n",
    "\n",
    "# Calculate nth1 based on the provided formula\n",
    "log_arg = np.exp(epsilon * delta / d) - 1\n",
    "numerator = bx * np.log2(1 + log_arg * (np.exp((n_decimal - 1) * epsilon) - 1))\n",
    "denominator = 1 + np.exp(n_decimal * epsilon)\n",
    "nth1 = d - delta / 2 + d / epsilon * (numerator / denominator)\n",
    "\n",
    "# Print nth1 and the generated random number (decimal)\n",
    "print(\"nth1:\", nth1)\n",
    "print(\"Generated Random Number (Decimal):\", n_decimal)\n"
   ]
  },
  {
   "cell_type": "code",
   "execution_count": 18,
   "id": "42218aca",
   "metadata": {},
   "outputs": [
    {
     "name": "stdout",
     "output_type": "stream",
     "text": [
      "nth2: 197.924824473015\n"
     ]
    }
   ],
   "source": [
    "import numpy as np\n",
    "\n",
    "# Given parameters\n",
    "d = 80\n",
    "bx = 4\n",
    "epsilon = 0.5\n",
    "delta = 10 / 2**10  # Using 10 bits for delta calculation\n",
    "\n",
    "# Generate a random binary number with 10 bits for n\n",
    "n_decimal = np.random.randint(0, 2**10) / (2**10 - 1)  # Random number between 0 and 1\n",
    "\n",
    "# Calculate the expression inside the logarithm\n",
    "log_expression = np.abs(np.exp(-epsilon) - np.exp(-n_decimal * epsilon))\n",
    "\n",
    "# print(log_expression)\n",
    "# print(np.log(log_expression))\n",
    "\n",
    "# Check if the expression is positive before calculating the logarithm\n",
    "# print(d+(delta/2)+2*d*((np.log(2)*20)+np.log(log_expression)))\n",
    "# print(80+10/2**11+160*(1*np.log(2)-0.340))\n",
    "if log_expression > 0:\n",
    "    nth2 = (d) +delta/ 2 + (d / epsilon) *  (bx*np.log(2) + np.log(log_expression))\n",
    "    print(\"nth2:\", nth2)\n",
    "else:\n",
    "    print(\"Error: Logarithm argument is not positive.\")\n"
   ]
  },
  {
   "cell_type": "markdown",
   "id": "fc1437a2",
   "metadata": {},
   "source": [
    "# Thresholding"
   ]
  },
  {
   "cell_type": "code",
   "execution_count": 19,
   "id": "af84c970",
   "metadata": {},
   "outputs": [
    {
     "name": "stdout",
     "output_type": "stream",
     "text": [
      "    age  sex   cp  trestbps   chol  fbs  restecg  thalach  exang  oldpeak  \\\n",
      "0  70.0  1.0  4.0     130.0  322.0  0.0      2.0    109.0    0.0      2.4   \n",
      "1  67.0  0.0  3.0     115.0  564.0  0.0      2.0    160.0    0.0      1.6   \n",
      "2  57.0  1.0  2.0     124.0  261.0  0.0      0.0    141.0    0.0      0.3   \n",
      "3  64.0  1.0  4.0     128.0  263.0  0.0      0.0    105.0    1.0      0.2   \n",
      "4  74.0  0.0  2.0     120.0  269.0  0.0      2.0    121.0    1.0      0.2   \n",
      "\n",
      "   slope   ca  thal  presence         u     noise  trestbps_noisycordic  \\\n",
      "0    2.0  3.0   3.0         2  0.214329  3.388390            133.388390   \n",
      "1    2.0  0.0   7.0         1  0.242623  2.892393            117.892393   \n",
      "2    1.0  0.0   7.0         2  0.796708 -3.599855            120.400145   \n",
      "3    2.0  1.0   7.0         1  0.201454  3.636187            131.636187   \n",
      "4    1.0  1.0   3.0         1  0.625671 -1.157897            118.842103   \n",
      "\n",
      "   median_diffnoise  new_trestbps  \n",
      "0          2.392221    133.884983  \n",
      "1         13.103775    118.388987  \n",
      "2         10.596023    120.896739  \n",
      "3          0.640018    132.132780  \n",
      "4         12.154065    119.338697  \n"
     ]
    }
   ],
   "source": [
    "import numpy as np\n",
    "\n",
    "# Parameters\n",
    "epsilon1 = 2\n",
    "epsilon_rng = 0.5\n",
    "epsilon2 = 1\n",
    "m = 144\n",
    "M = 146\n",
    "B = 1\n",
    "\n",
    "# Function to calculate n1 and n2 based on B\n",
    "n1=nth1\n",
    "n2=nth2\n",
    "\n",
    "# Generate a random number n with 20 bits\n",
    "n = np.random.uniform(-epsilon_rng, epsilon_rng)\n",
    "\n",
    "\n",
    "# Calculate n1 and n2 based on the initial privacy budget B\n",
    "\n",
    "\n",
    "new_values = []\n",
    "\n",
    "# Sample sensor data requests ri (assuming a stream of requests)\n",
    "requests = np.random.uniform(m - n1, M + n1, size=270)  # \n",
    "\n",
    "# Initialize y and remaining privacy budget\n",
    "y = 0\n",
    "remaining_budget = B\n",
    "\n",
    "for x in df['trestbps_noisycordic']:\n",
    "    # Sample sensor data requests ri (assuming a stream of requests)\n",
    "    requests = np.random.uniform(m - n1, M + n1, size=270)  \n",
    "\n",
    "    # Initialize y and remaining privacy budget\n",
    "    y = 0\n",
    "    remaining_budget = B\n",
    "\n",
    "    # Process each data request\n",
    "    for ri in requests:\n",
    "        if remaining_budget > 0:\n",
    "            tmp = x + n\n",
    "\n",
    "            if m <= tmp <= M:\n",
    "                epsilon = epsilon_rng\n",
    "            elif m - n1 <= tmp < m or M < tmp <= M + n1:\n",
    "                epsilon = epsilon1\n",
    "            else:\n",
    "                epsilon = epsilon2\n",
    "\n",
    "            y = m - n2 if tmp < m - n2 else (M + n2 if tmp > M + n2 else tmp)\n",
    "            remaining_budget -= epsilon\n",
    "        else:\n",
    "            break\n",
    "\n",
    "    # Store the new value in the list\n",
    "    new_values.append(y)\n",
    "\n",
    "# Add the new column 'new_trestbps' to the DataFrame\n",
    "df['new_trestbps'] = new_values\n",
    "\n",
    "# Print the DataFrame with the new column\n",
    "print(df.head())"
   ]
  },
  {
   "cell_type": "code",
   "execution_count": 20,
   "id": "02237231",
   "metadata": {},
   "outputs": [
    {
     "name": "stdout",
     "output_type": "stream",
     "text": [
      "Mean Absolute Error (MAE): 15.253812662404414\n",
      "accuracy= 61.328975796323505 %\n"
     ]
    }
   ],
   "source": [
    "median_new_trestbps = df['new_trestbps'].median()\n",
    "\n",
    "# Calculate the absolute differences\n",
    "df['median_diffthresholding'] = df['new_trestbps'].apply(lambda x: abs(x - median_new_trestbps))\n",
    "\n",
    "# Calculate the Mean Absolute Error (MAE)\n",
    "mae = df['median_diffthresholding'].mean()\n",
    "expected_median=11\n",
    "accuracy=(1-abs(mae-expected_median)/expected_median)*(100)\n",
    "\n",
    "# Print the Mean Absolute Error (MAE)\n",
    "print(\"Mean Absolute Error (MAE):\", mae)\n",
    "print(\"accuracy=\",accuracy,\"%\")"
   ]
  },
  {
   "cell_type": "code",
   "execution_count": 21,
   "id": "8c9d0ca9",
   "metadata": {},
   "outputs": [
    {
     "name": "stdout",
     "output_type": "stream",
     "text": [
      "Standard Deviation of 'median_diffresamplingnoise': 11.700981813560526\n",
      "accuracy 62.3413904286997 %\n"
     ]
    }
   ],
   "source": [
    "import pandas as pd\n",
    "\n",
    "# Assuming 'df' is your DataFrame and 'abs_diffresamplingnoise' is the name of the column\n",
    "# Replace 'df' with your actual DataFrame variable if it's different\n",
    "std_deviation = df['median_diffthresholding'].std()\n",
    "\n",
    "print(f\"Standard Deviation of 'median_diffresamplingnoise': {std_deviation}\")\n",
    "\n",
    "expected_stdofmedian=8.5\n",
    "accuracy=(1-abs(std_deviation-expected_stdofmedian)/expected_stdofmedian)*(100)\n",
    "print(\"accuracy\",accuracy,\"%\")\n",
    "\n"
   ]
  },
  {
   "cell_type": "markdown",
   "id": "e027211e",
   "metadata": {},
   "source": [
    "# Resampling"
   ]
  },
  {
   "cell_type": "code",
   "execution_count": 22,
   "id": "dc4d4fb0",
   "metadata": {},
   "outputs": [
    {
     "name": "stdout",
     "output_type": "stream",
     "text": [
      "    age  sex   cp  trestbps   chol  fbs  restecg  thalach  exang  oldpeak  \\\n",
      "0  70.0  1.0  4.0     130.0  322.0  0.0      2.0    109.0    0.0      2.4   \n",
      "1  67.0  0.0  3.0     115.0  564.0  0.0      2.0    160.0    0.0      1.6   \n",
      "2  57.0  1.0  2.0     124.0  261.0  0.0      0.0    141.0    0.0      0.3   \n",
      "3  64.0  1.0  4.0     128.0  263.0  0.0      0.0    105.0    1.0      0.2   \n",
      "4  74.0  0.0  2.0     120.0  269.0  0.0      2.0    121.0    1.0      0.2   \n",
      "\n",
      "   slope   ca  thal  presence         u     noise  trestbps_noisycordic  \\\n",
      "0    2.0  3.0   3.0         2  0.214329  3.388390            133.388390   \n",
      "1    2.0  0.0   7.0         1  0.242623  2.892393            117.892393   \n",
      "2    1.0  0.0   7.0         2  0.796708 -3.599855            120.400145   \n",
      "3    2.0  1.0   7.0         1  0.201454  3.636187            131.636187   \n",
      "4    1.0  1.0   3.0         1  0.625671 -1.157897            118.842103   \n",
      "\n",
      "   median_diffnoise  new_trestbps  median_diffthresholding  \n",
      "0          2.392221    133.883850                 2.392221  \n",
      "1         13.103775    118.387853                13.103775  \n",
      "2         10.596023    120.895606                10.596023  \n",
      "3          0.640018    132.131647                 0.640018  \n",
      "4         12.154065    119.337563                12.154065  \n"
     ]
    }
   ],
   "source": [
    "import numpy as np\n",
    "\n",
    "# Parameters\n",
    "epsilon1 = 2\n",
    "epsilon_rng = 0.5\n",
    "epsilon2 = 1\n",
    "m = 144\n",
    "M = 146\n",
    "B = 1\n",
    "\n",
    "# Function to calculate n1 and n2 based on B\n",
    "n1=nth1\n",
    "n2=nth2\n",
    "\n",
    "# Generate a random number n with 20 bits\n",
    "n = np.random.uniform(-epsilon_rng, epsilon_rng)\n",
    "\n",
    "\n",
    "# Calculate n1 and n2 based on the initial privacy budget B\n",
    "\n",
    "\n",
    "new_values = []\n",
    "\n",
    "# Sample sensor data requests ri (assuming a stream of requests)\n",
    "requests = np.random.uniform(m - n1, M + n1, size=270)  # \n",
    "\n",
    "# Initialize y and remaining privacy budget\n",
    "y = 0\n",
    "remaining_budget = B\n",
    "\n",
    "for x in df['trestbps_noisycordic']:\n",
    "    # Sample sensor data requests ri (assuming a stream of requests)\n",
    "    requests = np.random.uniform(m - n1, M + n1, size=270)  \n",
    "\n",
    "    # Initialize y and remaining privacy budget\n",
    "    y = 0\n",
    "    remaining_budget = B\n",
    "\n",
    "    # Process each data request\n",
    "    for ri in requests:\n",
    "        if remaining_budget > 0:\n",
    "            tmp = x + n\n",
    "\n",
    "            if m <= tmp <= M:\n",
    "                epsilon = epsilon_rng\n",
    "            elif m - n1 <= tmp < m or M < tmp <= M + n1:\n",
    "                epsilon = epsilon1\n",
    "            else:\n",
    "                tmp+=calculate_noise(tmp)\n",
    "\n",
    "            y = m - n2 if tmp < m - n2 else (M + n2 if tmp > M + n2 else tmp)\n",
    "            remaining_budget -= epsilon\n",
    "        else:\n",
    "            break\n",
    "\n",
    "    # Store the new value in the list\n",
    "    new_values.append(y)\n",
    "\n",
    "# Add the new column 'new_trestbps' to the DataFrame\n",
    "df['new_trestbps'] = new_values\n",
    "\n",
    "# Print the DataFrame with the new column\n",
    "print(df.head())"
   ]
  },
  {
   "cell_type": "code",
   "execution_count": 23,
   "id": "d7157b2a",
   "metadata": {},
   "outputs": [
    {
     "name": "stdout",
     "output_type": "stream",
     "text": [
      "    age  sex   cp  trestbps   chol  fbs  restecg  thalach  exang  oldpeak  \\\n",
      "0  70.0  1.0  4.0     130.0  322.0  0.0      2.0    109.0    0.0      2.4   \n",
      "1  67.0  0.0  3.0     115.0  564.0  0.0      2.0    160.0    0.0      1.6   \n",
      "2  57.0  1.0  2.0     124.0  261.0  0.0      0.0    141.0    0.0      0.3   \n",
      "3  64.0  1.0  4.0     128.0  263.0  0.0      0.0    105.0    1.0      0.2   \n",
      "4  74.0  0.0  2.0     120.0  269.0  0.0      2.0    121.0    1.0      0.2   \n",
      "\n",
      "   ...   ca  thal  presence         u     noise  trestbps_noisycordic  \\\n",
      "0  ...  3.0   3.0         2  0.214329  3.388390            133.388390   \n",
      "1  ...  0.0   7.0         1  0.242623  2.892393            117.892393   \n",
      "2  ...  0.0   7.0         2  0.796708 -3.599855            120.400145   \n",
      "3  ...  1.0   7.0         1  0.201454  3.636187            131.636187   \n",
      "4  ...  1.0   3.0         1  0.625671 -1.157897            118.842103   \n",
      "\n",
      "   median_diffnoise  new_trestbps  median_diffthresholding  \\\n",
      "0          2.392221    133.883850                 2.392221   \n",
      "1         13.103775    118.387853                13.103775   \n",
      "2         10.596023    120.895606                10.596023   \n",
      "3          0.640018    132.131647                 0.640018   \n",
      "4         12.154065    119.337563                12.154065   \n",
      "\n",
      "   new_trestbpsresampling  \n",
      "0              133.528291  \n",
      "1              117.420143  \n",
      "2              120.758066  \n",
      "3              131.749900  \n",
      "4              118.927793  \n",
      "\n",
      "[5 rows x 21 columns]\n"
     ]
    }
   ],
   "source": [
    "import numpy as np\n",
    "\n",
    "# Parameters\n",
    "epsilon1 = 2\n",
    "epsilon_rng = 0.5\n",
    "epsilon2 = 1\n",
    "m = 144\n",
    "M = 146\n",
    "B = 1\n",
    "nth1 = 0.2  # Example value for nth1\n",
    "nth2 = 0.4  # Example value for nth2\n",
    "\n",
    "# Function to calculate n1 and n2 based on B\n",
    "def calculate_n_values(B):\n",
    "    n1 = nth1 * B\n",
    "    n2 = nth2 * B\n",
    "    return n1, n2\n",
    "\n",
    "# Sample sensor data requests ri (assuming a stream of requests)\n",
    "requests = np.random.uniform(m - n1, M + n1, size=270)\n",
    "\n",
    "# Initialize new_values list\n",
    "new_values = []\n",
    "\n",
    "# Function to calculate noise based on tmp\n",
    "\n",
    "\n",
    "# Process each data request\n",
    "for x in df['trestbps_noisycordic']:\n",
    "    # Sample sensor data requests ri (assuming a stream of requests)\n",
    "    requests = np.random.uniform(m - n1, M + n1, size=270)\n",
    "\n",
    "    # Initialize y and remaining privacy budget\n",
    "    y = 0\n",
    "    remaining_budget = B\n",
    "\n",
    "    # Process each data request\n",
    "    for ri in requests:\n",
    "        if remaining_budget > 0:\n",
    "            tmp = x + np.random.uniform(-epsilon_rng, epsilon_rng)\n",
    "\n",
    "            if m <= tmp <= M:\n",
    "                epsilon = epsilon_rng\n",
    "            elif m - n1 <= tmp < m or M < tmp <= M + n1:\n",
    "                epsilon = epsilon1\n",
    "            else:\n",
    "                # Resample noise until tmp falls within the desired range\n",
    "                while True:\n",
    "                    tmp += calculate_noise(tmp)\n",
    "                    if m <= tmp <= M:\n",
    "                        epsilon = epsilon_rng\n",
    "                        break\n",
    "\n",
    "            y = m - n2 if tmp < m - n2 else (M + n2 if tmp > M + n2 else tmp)\n",
    "            remaining_budget -= epsilon\n",
    "        else:\n",
    "            break\n",
    "\n",
    "    # Store the new value in the list\n",
    "    new_values.append(y)\n",
    "\n",
    "# Add the new column 'new_trestbps' to the DataFrame\n",
    "df['new_trestbpsresampling'] = new_values\n",
    "\n",
    "# Print the DataFrame with the new column\n",
    "print(df.head())\n"
   ]
  },
  {
   "cell_type": "code",
   "execution_count": 24,
   "id": "5369ee16",
   "metadata": {},
   "outputs": [
    {
     "name": "stdout",
     "output_type": "stream",
     "text": [
      "Mean Absolute Error (MAE): 15.23932456236666\n",
      "accuracy 61.46068579666672 %\n"
     ]
    }
   ],
   "source": [
    "median_new_trestbpsresampling = df['new_trestbpsresampling'].median()\n",
    "\n",
    "# Calculate the absolute differences\n",
    "df['median_diffresamplingnoise'] = df['new_trestbpsresampling'].apply(lambda x: abs(x - median_new_trestbpsresampling))\n",
    "\n",
    "# Calculate the Mean Absolute Error (MAE)\n",
    "mae = df['median_diffresamplingnoise'].mean()\n",
    "\n",
    "# Print the Mean Absolute Error (MAE)\n",
    "print(\"Mean Absolute Error (MAE):\", mae)\n",
    "expected_median=11\n",
    "accuracy=(1-abs(mae-expected_median)/expected_median)*(100)\n",
    "print(\"accuracy\",accuracy,\"%\")"
   ]
  },
  {
   "cell_type": "code",
   "execution_count": 25,
   "id": "f5b6c952",
   "metadata": {},
   "outputs": [
    {
     "name": "stdout",
     "output_type": "stream",
     "text": [
      "Standard Deviation of 'abs_diffresamplingnoise': 11.714145926522358\n",
      "accuracy 62.186518511501674 %\n"
     ]
    }
   ],
   "source": [
    "import pandas as pd\n",
    "\n",
    "# Assuming 'df' is your DataFrame and 'abs_diffresamplingnoise' is the name of the column\n",
    "# Replace 'df' with your actual DataFrame variable if it's different\n",
    "std_deviation = df['median_diffresamplingnoise'].std()\n",
    "\n",
    "print(f\"Standard Deviation of 'abs_diffresamplingnoise': {std_deviation}\")\n",
    "expected_stdofmedian=8.5\n",
    "accuracy=(1-abs(std_deviation-expected_stdofmedian)/expected_stdofmedian)*(100)\n",
    "print(\"accuracy\",accuracy,\"%\")\n"
   ]
  },
  {
   "cell_type": "code",
   "execution_count": null,
   "id": "8c4c1e94",
   "metadata": {},
   "outputs": [],
   "source": []
  },
  {
   "cell_type": "code",
   "execution_count": null,
   "id": "f9fa4dd1",
   "metadata": {},
   "outputs": [],
   "source": []
  },
  {
   "cell_type": "code",
   "execution_count": null,
   "id": "b556275c",
   "metadata": {},
   "outputs": [],
   "source": []
  },
  {
   "cell_type": "code",
   "execution_count": null,
   "id": "430298f1",
   "metadata": {},
   "outputs": [],
   "source": [
    "\n"
   ]
  },
  {
   "cell_type": "code",
   "execution_count": null,
   "id": "edee7c4b",
   "metadata": {},
   "outputs": [],
   "source": []
  }
 ],
 "metadata": {
  "kernelspec": {
   "display_name": "Python 3 (ipykernel)",
   "language": "python",
   "name": "python3"
  },
  "language_info": {
   "codemirror_mode": {
    "name": "ipython",
    "version": 3
   },
   "file_extension": ".py",
   "mimetype": "text/x-python",
   "name": "python",
   "nbconvert_exporter": "python",
   "pygments_lexer": "ipython3",
   "version": "3.11.1"
  }
 },
 "nbformat": 4,
 "nbformat_minor": 5
}
