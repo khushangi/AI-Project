{
 "cells": [
  {
   "cell_type": "code",
   "execution_count": 29,
   "id": "aa8453f7",
   "metadata": {},
   "outputs": [
    {
     "name": "stdout",
     "output_type": "stream",
     "text": [
      "Mean Bp: 131.34444444444443\n"
     ]
    }
   ],
   "source": [
    "import pandas as pd\n",
    "import numpy as np\n",
    "\n",
    "# Define the file path\n",
    "file_path = r\"C:\\Users\\91820\\OneDrive\\Desktop\\Downloads\\satlog dataset\\statlog.csv\"\n",
    "# Read the  dataset from the CSV file\n",
    "df = pd.read_csv(file_path)\n",
    "\n",
    "# Calculate mean for the column\n",
    "mean_bp = df['trestbps'].mean()\n",
    "print(f\"Mean Bp: {mean_bp}\")\n",
    "\n"
   ]
  },
  {
   "cell_type": "markdown",
   "id": "831974ae",
   "metadata": {},
   "source": [
    "# Local Dp"
   ]
  },
  {
   "cell_type": "code",
   "execution_count": 30,
   "id": "61879d4b",
   "metadata": {},
   "outputs": [
    {
     "name": "stdout",
     "output_type": "stream",
     "text": [
      "Mean Absolute Error (MAE): 14.161218236155934\n",
      "accuracy= 97.66357404245471 %\n"
     ]
    }
   ],
   "source": [
    "import numpy as np\n",
    "import pandas as pd\n",
    "\n",
    "# Assuming 'df' is your DataFrame containing 'trestbps' and '_noisy' columns\n",
    "\n",
    "# Generate Laplace noise\n",
    "noise = np.random.laplace(loc=0, scale=1/0.5, size=len(df))\n",
    "\n",
    "# Add noise to the '_noisy' column\n",
    "df['_noisy'] = df['trestbps'] + noise\n",
    "\n",
    "# Calculate the mean of the '_noisy' column\n",
    "mean_noisy = df['_noisy'].mean()\n",
    "\n",
    "# Calculate the absolute differences\n",
    "df['abs_difflocaldp'] = np.abs(df['_noisy'] - mean_noisy)\n",
    "\n",
    "# Calculate the Mean Absolute Error (MAE)\n",
    "mae = df['abs_difflocaldp'].mean()\n",
    "\n",
    "# Print the Mean Absolute Error (MAE)\n",
    "print(\"Mean Absolute Error (MAE):\", mae)\n",
    "\n",
    "expected_mean=14.5\n",
    "accuracy=(1-abs(mae-expected_mean)/expected_mean)*(100)\n",
    "print(\"accuracy=\",accuracy,\"%\")\n"
   ]
  },
  {
   "cell_type": "code",
   "execution_count": 31,
   "id": "b2f98294",
   "metadata": {},
   "outputs": [
    {
     "name": "stdout",
     "output_type": "stream",
     "text": [
      "Standard Deviation of 'abs_diffresamplingnoise': 11.33730741021251\n",
      "accuracy= 96.93356899806808 %\n"
     ]
    }
   ],
   "source": [
    "import pandas as pd\n",
    "\n",
    "# Assuming 'df' is your DataFrame and 'abs_diffresamplingnoise' is the name of the column\n",
    "# Replace 'df' with your actual DataFrame variable if it's different\n",
    "std_deviation = df['abs_difflocaldp'].std()\n",
    "\n",
    "print(f\"Standard Deviation of 'abs_diffresamplingnoise': {std_deviation}\")\n",
    "expected_stdofmean=11.0\n",
    "\n",
    "accuracy=(1-abs(std_deviation-expected_stdofmean)/expected_stdofmean)*(100)\n",
    "print(\"accuracy=\",accuracy,\"%\")\n"
   ]
  },
  {
   "cell_type": "markdown",
   "id": "99a3013b",
   "metadata": {},
   "source": [
    "# FxP Baseline"
   ]
  },
  {
   "cell_type": "code",
   "execution_count": 32,
   "id": "f04c1a12",
   "metadata": {},
   "outputs": [
    {
     "name": "stdout",
     "output_type": "stream",
     "text": [
      "Generated Laplace-distributed noise samples:\n",
      "[-0.24831384  1.06930745 -0.98644712  3.6373561   2.68358303 -0.4186407\n",
      "  0.18652376 -1.6124523  -1.08227243  6.58074686]\n"
     ]
    }
   ],
   "source": [
    "import numpy as np\n",
    "\n",
    "# Parameters for Laplace distribution\n",
    "loc = 0  # Mean of the Laplace distribution\n",
    "scale = 1 / 0.5  # Scale parameter of the Laplace distribution\n",
    "\n",
    "# Number of samples\n",
    "num_samples = len(df)  # Adjust as needed\n",
    "\n",
    "# Generate two independent uniform random numbers between 0 and 1\n",
    "u1 = np.random.uniform(0, 1, num_samples)\n",
    "u2 = np.random.uniform(0, 1, num_samples)\n",
    "\n",
    "# Apply inverse CDF transformation to generate Laplace-distributed noise\n",
    "noise = scale * np.sign(u1 - 0.5) * np.log(u2)\n",
    "\n",
    "# Print some generated noise samples\n",
    "print(\"Generated Laplace-distributed noise samples:\")\n",
    "print(noise[:10])  # Print first 10 samples as an example\n"
   ]
  },
  {
   "cell_type": "code",
   "execution_count": 33,
   "id": "63566040",
   "metadata": {},
   "outputs": [
    {
     "name": "stdout",
     "output_type": "stream",
     "text": [
      "DataFrame with noisy data:\n",
      "    age  sex   cp  trestbps   chol  fbs  restecg  thalach  exang  oldpeak  \\\n",
      "0  70.0  1.0  4.0     130.0  322.0  0.0      2.0    109.0    0.0      2.4   \n",
      "1  67.0  0.0  3.0     115.0  564.0  0.0      2.0    160.0    0.0      1.6   \n",
      "2  57.0  1.0  2.0     124.0  261.0  0.0      0.0    141.0    0.0      0.3   \n",
      "3  64.0  1.0  4.0     128.0  263.0  0.0      0.0    105.0    1.0      0.2   \n",
      "4  74.0  0.0  2.0     120.0  269.0  0.0      2.0    121.0    1.0      0.2   \n",
      "\n",
      "   slope   ca  thal  presence      _noisy  abs_difflocaldp  trestbps_noisy  \n",
      "0    2.0  3.0   3.0         2  133.522431         1.834355      129.751686  \n",
      "1    2.0  0.0   7.0         1  118.283594        13.404483      116.069307  \n",
      "2    1.0  0.0   7.0         2  125.531340         6.156736      123.013553  \n",
      "3    2.0  1.0   7.0         1  131.328360         0.359716      131.637356  \n",
      "4    1.0  1.0   3.0         1  119.308799        12.379278      122.683583  \n"
     ]
    }
   ],
   "source": [
    "# Add noise to the 'trestbps' column to create 'trestbps_noisy'\n",
    "df['trestbps_noisy'] = df['trestbps'] + noise\n",
    "\n",
    "# Print the first few rows of the DataFrame with the new noisy column\n",
    "print(\"DataFrame with noisy data:\")\n",
    "print(df.head())"
   ]
  },
  {
   "cell_type": "code",
   "execution_count": 34,
   "id": "22143e2b",
   "metadata": {},
   "outputs": [],
   "source": [
    "# Calculate the absolute differences\n",
    "df['abs_difffxp'] = np.abs(df['trestbps_noisy'] - mean_noisy)\n"
   ]
  },
  {
   "cell_type": "code",
   "execution_count": 35,
   "id": "828f712b",
   "metadata": {},
   "outputs": [
    {
     "name": "stdout",
     "output_type": "stream",
     "text": [
      "accuracy= 99.56249881563424 %\n",
      "Mean Absolute Error (MAE): 14.262125168179937\n"
     ]
    }
   ],
   "source": [
    "# Calculate the Mean Absolute Error (MAE)\n",
    "mae = df['abs_difffxp'].mean()\n",
    "\n",
    "expected_meanfxp=14.2\n",
    "\n",
    "accuracy=(1-abs(mae-expected_meanfxp)/expected_meanfxp)*(100)\n",
    "print(\"accuracy=\",accuracy,\"%\")\n",
    "\n",
    "# Print the Mean Absolutexpected_meanfxp=14.2e Error (MAE)\n",
    "print(\"Mean Absolute Error (MAE):\", mae)\n"
   ]
  },
  {
   "cell_type": "code",
   "execution_count": 37,
   "id": "e53adf94",
   "metadata": {},
   "outputs": [
    {
     "data": {
      "image/png": "[encoded data removed]",
      "text/plain": [
       "<Figure size 640x480 with 1 Axes>"
      ]
     },
     "metadata": {},
     "output_type": "display_data"
    }
   ],
   "source": [
    "import numpy as np\n",
    "import pandas as pd\n",
    "import matplotlib.pyplot as plt\n",
    "\n",
    "# Create an example DataFrame (replace this with your actual DataFrame)\n",
    "df = pd.DataFrame(np.random.randn(100, 1), columns=['trestbps'])\n",
    "\n",
    "# Parameters for Laplace distribution\n",
    "loc = 0  # Mean of the Laplace distribution\n",
    "scale = 1 / 0.5  # Scale parameter of the Laplace distribution\n",
    "\n",
    "# Number of samples\n",
    "num_samples = len(df)\n",
    "\n",
    "# Create empty lists to store MAE errors and accuracies\n",
    "mae_errors = []\n",
    "accuracies = []\n",
    "\n",
    "# Run the code 100 times\n",
    "for _ in range(100):\n",
    "    # Generate two independent uniform random numbers between 0 and 1\n",
    "    u1 = np.random.uniform(0, 1, num_samples)\n",
    "    u2 = np.random.uniform(0, 1, num_samples)\n",
    "\n",
    "    # Apply inverse CDF transformation to generate Laplace-distributed noise\n",
    "    noise = scale * np.sign(u1 - 0.5) * np.log(u2)\n",
    "\n",
    "    # Add noise to the 'trestbps' column to create 'trestbps_noisy'\n",
    "    df['trestbps_noisy'] = df['trestbps'] + noise\n",
    "\n",
    "    # Calculate the mean of the 'trestbps_noisy' column\n",
    "    mean_noisy = df['trestbps_noisy'].mean()\n",
    "\n",
    "    # Calculate the absolute differences\n",
    "    df['abs_difffxp'] = np.abs(df['trestbps_noisy'] - mean_noisy)\n",
    "\n",
    "    # Calculate the Mean Absolute Error (MAE)\n",
    "    mae = df['abs_difffxp'].mean()\n",
    "    mae_errors.append(mae)\n",
    "\n",
    "    # Define the expected mean\n",
    "    expected_meanfxp = 14.2\n",
    "\n",
    "    # Calculate accuracy\n",
    "    accuracy = (1 - abs(mae - expected_meanfxp) / expected_meanfxp) * 100\n",
    "    accuracies.append(accuracy)\n",
    "\n",
    "# Plot the errors (mae - expected_meanfxp) in a histogram\n",
    "plt.hist(np.array(mae_errors) - expected_meanfxp, bins=50, edgecolor='black')\n",
    "plt.xlabel('Error (MAE - Expected Mean)')\n",
    "plt.ylabel('Frequency')\n",
    "plt.title('Distribution of MAE Errors')\n",
    "plt.show()\n",
    "\n",
    "\n"
   ]
  },
  {
   "cell_type": "code",
   "execution_count": 38,
   "id": "1de0af77",
   "metadata": {},
   "outputs": [
    {
     "name": "stdout",
     "output_type": "stream",
     "text": [
      "Generated Laplace-distributed noise samples:\n",
      "[-500.5846693     7.7644097  -149.92816333   60.82181891   82.54094639\n",
      " -305.71134731 -498.39833491  -60.65642023  156.53525211   -8.73646894]\n",
      "Mean of the generated noise: -32.66693782052592\n"
     ]
    }
   ],
   "source": [
    "loc = 0  # Mean of the Laplace distribution\n",
    "scale = 80/ 0.5  # Scale parameter of the Laplace distribution\n",
    "\n",
    "# Number of samples\n",
    "num_samples = len(df)  # Adjust as needed\n",
    "\n",
    "# Generate two independent uniform random numbers between 0 and 1\n",
    "u1 = np.random.uniform(0, 1, num_samples)\n",
    "u2 = np.random.uniform(0, 1, num_samples)\n",
    "\n",
    "# Apply inverse CDF transformation to generate Laplace-distributed noise\n",
    "noise = scale * np.sign(u1 - 0.5) * np.log(u2)\n",
    "\n",
    "# Print some generated noise samples\n",
    "print(\"Generated Laplace-distributed noise samples:\")\n",
    "print(noise[:10])  # Print first 10 samples as an example\n",
    "\n",
    "# Calculate the mean of the noise\n",
    "mean_noise = np.mean(noise)\n",
    "\n",
    "# Print the mean\n",
    "print(\"Mean of the generated noise:\", mean_noise)\n"
   ]
  },
  {
   "cell_type": "code",
   "execution_count": 39,
   "id": "85682830",
   "metadata": {},
   "outputs": [
    {
     "name": "stdout",
     "output_type": "stream",
     "text": [
      "accuracy= 95.9880054108944 %\n",
      "Standard Deviation of 'abs_diffresamplingnoise': 1.8815489260574334\n"
     ]
    }
   ],
   "source": [
    "import pandas as pd\n",
    "\n",
    "# Assuming 'df' is your DataFrame and 'abs_diffresamplingnoise' is the name of the column\n",
    "# Replace 'df' with your actual DataFrame variable if it's different\n",
    "\n",
    "expected_stdofmean=10.9\n",
    "accuracy=(1-abs(std_deviation-expected_stdofmean)/expected_stdofmean)*(100)\n",
    "print(\"accuracy=\",accuracy,\"%\")\n",
    "std_deviation = df['abs_difffxp'].std()\n",
    "\n",
    "print(f\"Standard Deviation of 'abs_diffresamplingnoise': {std_deviation}\")\n"
   ]
  }
 ],
 "metadata": {
  "kernelspec": {
   "display_name": "Python 3 (ipykernel)",
   "language": "python",
   "name": "python3"
  },
  "language_info": {
   "codemirror_mode": {
    "name": "ipython",
    "version": 3
   },
   "file_extension": ".py",
   "mimetype": "text/x-python",
   "name": "python",
   "nbconvert_exporter": "python",
   "pygments_lexer": "ipython3",
   "version": "3.9.13"
  }
 },
 "nbformat": 4,
 "nbformat_minor": 5
}
