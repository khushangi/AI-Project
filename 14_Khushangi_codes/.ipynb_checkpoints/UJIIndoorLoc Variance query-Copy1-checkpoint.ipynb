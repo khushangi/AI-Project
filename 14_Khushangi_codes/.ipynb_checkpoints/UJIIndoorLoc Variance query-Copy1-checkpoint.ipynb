{
 "cells": [
  {
   "cell_type": "code",
   "execution_count": 130,
   "id": "aa8453f7",
   "metadata": {},
   "outputs": [
    {
     "name": "stdout",
     "output_type": "stream",
     "text": [
      "Mean longitude: 15228.056123692177\n"
     ]
    }
   ],
   "source": [
    "import pandas as pd\n",
    "import numpy as np\n",
    "\n",
    "# Define the file path\n",
    "file_path = r\"C:\\Users\\91820\\OneDrive\\Desktop\\Downloads\\UJIIndoorLoc\\TrainingData.csv\"\n",
    "# Read the Auto MPG dataset from the CSV file\n",
    "df = pd.read_csv(file_path)\n",
    "\n",
    "# Calculate mean for the 'mpg' column\n",
    "var_longitude = df['LONGITUDE'].var()\n",
    "print(f\"Mean longitude: {var_longitude}\")\n"
   ]
  },
  {
   "cell_type": "markdown",
   "id": "831974ae",
   "metadata": {},
   "source": [
    "# Local Dp"
   ]
  },
  {
   "cell_type": "code",
   "execution_count": 131,
   "id": "61879d4b",
   "metadata": {},
   "outputs": [
    {
     "name": "stdout",
     "output_type": "stream",
     "text": [
      "Mean Absolute Error (MAE): 22708.691301335795\n",
      "   WAP001  WAP002  WAP003  WAP004  WAP005  WAP006  WAP007  WAP008  WAP009  \\\n",
      "0     100     100     100     100     100     100     100     100     100   \n",
      "1     100     100     100     100     100     100     100     100     100   \n",
      "2     100     100     100     100     100     100     100     -97     100   \n",
      "3     100     100     100     100     100     100     100     100     100   \n",
      "4     100     100     100     100     100     100     100     100     100   \n",
      "\n",
      "   WAP010  ...      LATITUDE  FLOOR  BUILDINGID  SPACEID  RELATIVEPOSITION  \\\n",
      "0     100  ...  4.864921e+06      2           1      106                 2   \n",
      "1     100  ...  4.864934e+06      2           1      106                 2   \n",
      "2     100  ...  4.864950e+06      2           1      103                 2   \n",
      "3     100  ...  4.864934e+06      2           1      102                 2   \n",
      "4     100  ...  4.864982e+06      0           0      122                 2   \n",
      "\n",
      "   USERID  PHONEID   TIMESTAMP    var_noisy  var_difflocaldp  \n",
      "0       2       23  1371713733 -7540.161038     22784.604774  \n",
      "1       2       23  1371713691 -7537.573511     22782.017246  \n",
      "2       2       23  1371714095 -7517.346309     22761.790044  \n",
      "3       2       23  1371713807 -7525.876864     22770.320599  \n",
      "4      11       13  1369909710 -7633.733407     22878.177143  \n",
      "\n",
      "[5 rows x 531 columns]\n",
      "accuracy= 48.60872465776136 %\n"
     ]
    }
   ],
   "source": [
    "import numpy as np\n",
    "import pandas as pd\n",
    "\n",
    "# Assuming 'df' is your DataFrame containing 'trestbps' and '_noisy' columns\n",
    "\n",
    "# Generate Laplace noise\n",
    "noise = np.random.laplace(loc=0, scale=1/0.5, size=len(df))\n",
    "\n",
    "# Add noise to the '_noisy' column\n",
    "df['var_noisy'] = df['LONGITUDE'] + noise\n",
    "\n",
    "# Calculate the mean of the '_noisy' column\n",
    "var_noisy = df['var_noisy'].var()\n",
    "\n",
    "# Calculate the absolute differences\n",
    "df['var_difflocaldp'] = np.abs(df['var_noisy'] - var_noisy)\n",
    "\n",
    "# Calculate the Mean Absolute Error (MAE)\n",
    "mae = df['var_difflocaldp'].mean()\n",
    "\n",
    "# Print the Mean Absolute Error (MAE)\n",
    "print(\"Mean Absolute Error (MAE):\", mae)\n",
    "\n",
    "print(df.head())\n",
    "\n",
    "expected_mean=15000\n",
    "accuracy=(1-(abs(mae-expected_mean)/expected_mean))*(100)\n",
    "print(\"accuracy=\",accuracy,\"%\")\n",
    "\n"
   ]
  },
  {
   "cell_type": "code",
   "execution_count": 132,
   "id": "b2f98294",
   "metadata": {},
   "outputs": [
    {
     "name": "stdout",
     "output_type": "stream",
     "text": [
      "Standard Deviation of 'var_noise': 123.46839164456152\n",
      "accuracy= 1.0289032637046724 %\n"
     ]
    }
   ],
   "source": [
    "import pandas as pd\n",
    "\n",
    "# Assuming 'df' is your DataFrame and 'abs_diffresamplingnoise' is the name of the column\n",
    "# Replace 'df' with your actual DataFrame variable if it's different\n",
    "std_deviation = df['var_noisy'].std()\n",
    "\n",
    "print(f\"Standard Deviation of 'var_noise': {std_deviation}\")\n",
    "expected_stdofmean=12000\n",
    "\n",
    "accuracy=(1-abs(std_deviation-expected_stdofmean)/expected_stdofmean)*(100)\n",
    "print(\"accuracy=\",accuracy,\"%\")"
   ]
  },
  {
   "cell_type": "markdown",
   "id": "99a3013b",
   "metadata": {},
   "source": [
    "# FxP Baseline"
   ]
  },
  {
   "cell_type": "code",
   "execution_count": 133,
   "id": "f04c1a12",
   "metadata": {},
   "outputs": [
    {
     "name": "stdout",
     "output_type": "stream",
     "text": [
      "Generated Laplace-distributed noise samples:\n",
      "[-5.79859131  4.72156519  2.76237715  3.09348348 -0.49714954  1.80555169\n",
      "  0.99368121  0.97792526 -3.15597525  2.75414514]\n"
     ]
    }
   ],
   "source": [
    "import numpy as np\n",
    "\n",
    "# Parameters for Laplace distribution\n",
    "loc = 0  # Mean of the Laplace distribution\n",
    "scale = 1 / 0.5  # Scale parameter of the Laplace distribution\n",
    "\n",
    "# Number of samples\n",
    "num_samples = len(df)  # Adjust as needed\n",
    "\n",
    "# Generate two independent uniform random numbers between 0 and 1\n",
    "u1 = np.random.uniform(0, 1, num_samples)\n",
    "u2 = np.random.uniform(0, 1, num_samples)\n",
    "\n",
    "# Apply inverse CDF transformation to generate Laplace-distributed noise\n",
    "noise = scale * np.sign(u1 - 0.5) * np.log(u2)\n",
    "\n",
    "# Print some generated noise samples\n",
    "print(\"Generated Laplace-distributed noise samples:\")\n",
    "print(noise[:10])  # Print first 10 samples as an example\n"
   ]
  },
  {
   "cell_type": "code",
   "execution_count": 134,
   "id": "63566040",
   "metadata": {},
   "outputs": [
    {
     "name": "stdout",
     "output_type": "stream",
     "text": [
      "DataFrame with noisy data:\n",
      "   WAP001  WAP002  WAP003  WAP004  WAP005  WAP006  WAP007  WAP008  WAP009  \\\n",
      "0     100     100     100     100     100     100     100     100     100   \n",
      "1     100     100     100     100     100     100     100     100     100   \n",
      "2     100     100     100     100     100     100     100     -97     100   \n",
      "3     100     100     100     100     100     100     100     100     100   \n",
      "4     100     100     100     100     100     100     100     100     100   \n",
      "\n",
      "   WAP010  ...  FLOOR  BUILDINGID  SPACEID  RELATIVEPOSITION  USERID  PHONEID  \\\n",
      "0     100  ...      2           1      106                 2       2       23   \n",
      "1     100  ...      2           1      106                 2       2       23   \n",
      "2     100  ...      2           1      103                 2       2       23   \n",
      "3     100  ...      2           1      102                 2       2       23   \n",
      "4     100  ...      0           0      122                 2      11       13   \n",
      "\n",
      "    TIMESTAMP    var_noisy  var_difflocaldp  wifi_noisyvar  \n",
      "0  1371713733 -7540.161038     22784.604774   -7547.062891  \n",
      "1  1371713691 -7537.573511     22782.017246   -7531.899635  \n",
      "2  1371714095 -7517.346309     22761.790044   -7516.390023  \n",
      "3  1371713807 -7525.876864     22770.320599   -7521.476917  \n",
      "4  1369909710 -7633.733407     22878.177143   -7632.640750  \n",
      "\n",
      "[5 rows x 532 columns]\n"
     ]
    }
   ],
   "source": [
    "# Add noise to the 'trestbps' column to create 'trestbps_noisy'\n",
    "df['wifi_noisyvar'] = df['LONGITUDE'] + noise\n",
    "\n",
    "# Print the first few rows of the DataFrame with the new noisy column\n",
    "print(\"DataFrame with noisy data:\")\n",
    "print(df.head())"
   ]
  },
  {
   "cell_type": "code",
   "execution_count": 135,
   "id": "22143e2b",
   "metadata": {},
   "outputs": [],
   "source": [
    "# Calculate the absolute differences\n",
    "df['mean_difffxp'] = np.abs(df['wifi_noisyvar'] - var_noisy)\n"
   ]
  },
  {
   "cell_type": "code",
   "execution_count": 136,
   "id": "828f712b",
   "metadata": {},
   "outputs": [
    {
     "name": "stdout",
     "output_type": "stream",
     "text": [
      "Mean Absolute Error (MAE): 22708.72011735496\n",
      "accuracy= 58.07049926653151 %\n"
     ]
    }
   ],
   "source": [
    "# Calculate the Mean Absolute Error (MAE)\n",
    "mae = df['mean_difffxp'].mean()\n",
    "expected_meanfxp=16000\n",
    "# Print the Mean Absolute Error (MAE)\n",
    "print(\"Mean Absolute Error (MAE):\", mae)\n",
    "accuracy=(1-abs(mae-expected_meanfxp)/expected_meanfxp)*(100)\n",
    "print(\"accuracy=\",accuracy,\"%\")\n",
    "\n",
    "\n"
   ]
  },
  {
   "cell_type": "code",
   "execution_count": 137,
   "id": "1de0af77",
   "metadata": {},
   "outputs": [
    {
     "name": "stdout",
     "output_type": "stream",
     "text": [
      "Generated Laplace-distributed noise samples:\n",
      "[-278.80357255   -2.82474719  173.04591454  638.09198162  -54.50004065\n",
      " -169.40491015  138.18631017   87.33424356  107.5774483  -392.19630711]\n",
      "Mean of the generated noise: 0.034714947751106257\n"
     ]
    }
   ],
   "source": [
    "loc = 0  # Mean of the Laplace distribution\n",
    "scale = 80/ 0.5  # Scale parameter of the Laplace distribution\n",
    "\n",
    "# Number of samples\n",
    "num_samples = len(df)  # Adjust as needed\n",
    "\n",
    "# Generate two independent uniform random numbers between 0 and 1\n",
    "u1 = np.random.uniform(0, 1, num_samples)\n",
    "u2 = np.random.uniform(0, 1, num_samples)\n",
    "\n",
    "# Apply inverse CDF transformation to generate Laplace-distributed noise\n",
    "noise = scale * np.sign(u1 - 0.5) * np.log(u2)\n",
    "\n",
    "# Print some generated noise samples\n",
    "print(\"Generated Laplace-distributed noise samples:\")\n",
    "print(noise[:10])  # Print first 10 samples as an example\n",
    "\n",
    "# Calculate the mean of the noise\n",
    "mean_noise = np.mean(noise)\n",
    "\n",
    "# Print the mean\n",
    "print(\"Mean of the generated noise:\", mean_noise)\n"
   ]
  },
  {
   "cell_type": "code",
   "execution_count": 138,
   "id": "85682830",
   "metadata": {},
   "outputs": [
    {
     "name": "stdout",
     "output_type": "stream",
     "text": [
      "Standard Deviation of 'mean_diffresamplingnoise': 123.43757796916819\n",
      "accuracy= 1.028646483076412 %\n"
     ]
    }
   ],
   "source": [
    "import pandas as pd\n",
    "\n",
    "# Assuming 'df' is your DataFrame and 'abs_diffresamplingnoise' is the name of the column\n",
    "# Replace 'df' with your actual DataFrame variable if it's different\n",
    "std_deviation = df['mean_difffxp'].std()\n",
    "\n",
    "print(f\"Standard Deviation of 'mean_diffresamplingnoise': {std_deviation}\")\n",
    "expected_stdofmean=12000\n",
    "accuracy=(1-abs(std_deviation-expected_stdofmean)/expected_stdofmean)*(100)\n",
    "print(\"accuracy=\",accuracy,\"%\")\n"
   ]
  },
  {
   "cell_type": "markdown",
   "id": "997c18aa",
   "metadata": {},
   "source": [
    "# DP Box"
   ]
  },
  {
   "cell_type": "code",
   "execution_count": 139,
   "id": "44e35972",
   "metadata": {},
   "outputs": [
    {
     "name": "stdout",
     "output_type": "stream",
     "text": [
      "Noise (n): -17.69042606977408\n"
     ]
    }
   ],
   "source": [
    "##example for a single entry\n",
    "\n",
    "import numpy as np\n",
    "\n",
    "# Parameters\n",
    "ru = 114\n",
    "rl = 180\n",
    "epsilon_in = 0.5\n",
    "\n",
    "# Generate a random number between 0 and 1 using NumPy\n",
    "u = np.random.rand()\n",
    "\n",
    "# Calculate sf (sensitivity factor)\n",
    "sf = (ru - rl) / epsilon_in\n",
    "\n",
    "# Calculate ls (logarithmic scaling)\n",
    "if u < 0.5:\n",
    "    ls = np.log(2 * u)\n",
    "else:\n",
    "    ls = -np.log(2 * (1 - u))\n",
    "\n",
    "# Calculate noise (n)\n",
    "n = sf * ls\n",
    "\n",
    "# Print the noise (n)\n",
    "print(\"Noise (n):\", n)\n"
   ]
  },
  {
   "cell_type": "code",
   "execution_count": 140,
   "id": "93270329",
   "metadata": {},
   "outputs": [
    {
     "name": "stdout",
     "output_type": "stream",
     "text": [
      "New dataset with noisy 'longitude' column:\n",
      "       WAP001  WAP002  WAP003  WAP004  WAP005  WAP006  WAP007  WAP008  WAP009  \\\n",
      "0         100     100     100     100     100     100     100     100     100   \n",
      "1         100     100     100     100     100     100     100     100     100   \n",
      "2         100     100     100     100     100     100     100     -97     100   \n",
      "3         100     100     100     100     100     100     100     100     100   \n",
      "4         100     100     100     100     100     100     100     100     100   \n",
      "...       ...     ...     ...     ...     ...     ...     ...     ...     ...   \n",
      "19932     100     100     100     100     100     100     100     100     100   \n",
      "19933     100     100     100     100     100     100     100     100     100   \n",
      "19934     100     100     100     100     100     100     100     100     100   \n",
      "19935     100     100     100     100     100     100     100     100     100   \n",
      "19936     100     100     100     100     100     100     100     100     100   \n",
      "\n",
      "       WAP010  ...  FLOOR  BUILDINGID  SPACEID  RELATIVEPOSITION  USERID  \\\n",
      "0         100  ...      2           1      106                 2       2   \n",
      "1         100  ...      2           1      106                 2       2   \n",
      "2         100  ...      2           1      103                 2       2   \n",
      "3         100  ...      2           1      102                 2       2   \n",
      "4         100  ...      0           0      122                 2      11   \n",
      "...       ...  ...    ...         ...      ...               ...     ...   \n",
      "19932     100  ...      3           1        1                 2      18   \n",
      "19933     100  ...      1           2      140                 2      18   \n",
      "19934     100  ...      3           1       13                 2      18   \n",
      "19935     100  ...      3           1      113                 2      18   \n",
      "19936     100  ...      3           1      112                 2      18   \n",
      "\n",
      "       PHONEID   TIMESTAMP         u         noise  wifi_noisycordic  \n",
      "0           23  1371713733  0.963880 -42044.275877     -49585.540177  \n",
      "1           23  1371713691  0.617437  -4283.453439     -11820.074639  \n",
      "2           23  1371714095  0.086920  27993.962668      20474.810268  \n",
      "3           23  1371713807  0.297642   8299.455462        774.885062  \n",
      "4           13  1369909710  0.272063   9737.162829       2105.019229  \n",
      "...        ...         ...       ...           ...               ...  \n",
      "19932       10  1371710683  0.170866  17179.645891       9694.177291  \n",
      "19933       10  1371710402  0.983130 -54224.906364     -61615.526964  \n",
      "19934       10  1371710921  0.499737      8.404146      -7508.437354  \n",
      "19935       10  1371711049  0.317255   7278.453823       -258.868077  \n",
      "19936       10  1371711025  0.133113  21174.503945      13638.338145  \n",
      "\n",
      "[19937 rows x 532 columns]\n"
     ]
    }
   ],
   "source": [
    "import pandas as pd\n",
    "import numpy as np\n",
    "\n",
    "# Load your dataset (assuming it's stored in a CSV file)\n",
    "file_path = r\"C:\\Users\\91820\\OneDrive\\Desktop\\Downloads\\UJIIndoorLoc\\TrainingData.csv\"\n",
    "df = pd.read_csv(file_path)\n",
    "\n",
    "# Parameters for noise calculation\n",
    "ru = 11000 \n",
    "rl = 19000\n",
    "epsilon_in = 0.5\n",
    "\n",
    "# Function to calculate noise (n) based on the provided formula\n",
    "def calculate_noise(u):\n",
    "    sf = (ru - rl) / epsilon_in\n",
    "    if u < 0.5:\n",
    "        ls = np.log(2 * u)\n",
    "    else:\n",
    "        ls = -np.log(2 * (1 - u))\n",
    "    return sf * ls\n",
    "\n",
    "# Generate a random number between 0 and 1 for each entry in 'trestbps'\n",
    "df['u'] = np.random.rand(len(df))\n",
    "\n",
    "# Calculate noise (n) for each entry based on the random number 'u'\n",
    "df['noise'] = df['u'].apply(calculate_noise)\n",
    "\n",
    "# Add the noise to each entry in 'trestbps' to create a new noisy column\n",
    "df['wifi_noisycordic'] = df['LONGITUDE'] + df['noise']\n",
    "\n",
    "# Print the new dataset with the noisy 'trestbps' column\n",
    "print(\"New dataset with noisy 'longitude' column:\")\n",
    "print(df)\n"
   ]
  },
  {
   "cell_type": "code",
   "execution_count": 141,
   "id": "17b65960",
   "metadata": {},
   "outputs": [
    {
     "name": "stdout",
     "output_type": "stream",
     "text": [
      "Mean Absolute Error (MAE): 16140.850273284268\n",
      "Mean Absolute Error (MAE): 16140.850273284268\n",
      "accuracy= 99.11968579197332 %\n"
     ]
    }
   ],
   "source": [
    "var_new_trestbps = df['wifi_noisycordic'].mean()\n",
    "\n",
    "# Calculate the absolute differences\n",
    "df['wifi_diffnoise'] = df['wifi_noisycordic'].apply(lambda x: abs(x - var_new_trestbps))\n",
    "\n",
    "# Calculate the Mean Absolute Error (MAE)\n",
    "mae = df['wifi_diffnoise'].mean()\n",
    "\n",
    "# Print the Mean Absolute Error (MAE)\n",
    "print(\"Mean Absolute Error (MAE):\", mae)\n",
    "\n",
    "expected_mean=16000\n",
    "accuracy=(1-abs(mae-expected_mean)/expected_mean)*(100)\n",
    "\n",
    "# Print the Mean Absolute Error (MAE)\n",
    "print(\"Mean Absolute Error (MAE):\", mae)\n",
    "print(\"accuracy=\",accuracy,\"%\")"
   ]
  },
  {
   "cell_type": "code",
   "execution_count": 142,
   "id": "fb2fd697",
   "metadata": {},
   "outputs": [
    {
     "name": "stdout",
     "output_type": "stream",
     "text": [
      "nth1: 79.99278017871495\n",
      "Generated Random Number (Decimal): 0.15377154709963523\n"
     ]
    }
   ],
   "source": [
    "import numpy as np\n",
    "\n",
    "# Set a new seed for randomness\n",
    "np.random.seed()\n",
    "\n",
    "# Parameters\n",
    "d = 80\n",
    "bx = 1\n",
    "epsilon = 0.5\n",
    "k = 20  # Number of bits for the random number\n",
    "delta = 10 / 2**10  # Using 10 bits for delta calculation\n",
    "\n",
    "# Generate a random binary number with 20 bits\n",
    "binary_n = ''.join(np.random.choice(['0', '1'], size=k))\n",
    "\n",
    "# Convert the binary number to a decimal between 0 and 1\n",
    "n_decimal = int(binary_n, 2) / (2**k - 1)  # Convert binary to decimal\n",
    "\n",
    "# Calculate nth1 based on the provided formula\n",
    "log_arg = np.exp(epsilon * delta / d) - 1\n",
    "numerator = bx * np.log2(1 + log_arg * (np.exp((n_decimal - 1) * epsilon) - 1))\n",
    "denominator = 1 + np.exp(n_decimal * epsilon)\n",
    "nth1 = d - delta / 2 + d / epsilon * (numerator / denominator)\n",
    "\n",
    "# Print nth1 and the generated random number (decimal)\n",
    "print(\"nth1:\", nth1)\n",
    "print(\"Generated Random Number (Decimal):\", n_decimal)\n"
   ]
  },
  {
   "cell_type": "code",
   "execution_count": 143,
   "id": "42218aca",
   "metadata": {},
   "outputs": [
    {
     "name": "stdout",
     "output_type": "stream",
     "text": [
      "nth2: -121.44515799024168\n"
     ]
    }
   ],
   "source": [
    "import numpy as np\n",
    "\n",
    "# Given parameters\n",
    "d = 80\n",
    "bx = 4\n",
    "epsilon = 0.5\n",
    "delta = 10 / 2**10  # Using 10 bits for delta calculation\n",
    "\n",
    "# Generate a random binary number with 10 bits for n\n",
    "n_decimal = np.random.randint(0, 2**10) / (2**10 - 1)  # Random number between 0 and 1\n",
    "\n",
    "# Calculate the expression inside the logarithm\n",
    "log_expression = np.abs(np.exp(-epsilon) - np.exp(-n_decimal * epsilon))\n",
    "\n",
    "# print(log_expression)\n",
    "# print(np.log(log_expression))\n",
    "\n",
    "# Check if the expression is positive before calculating the logarithm\n",
    "# print(d+(delta/2)+2*d*((np.log(2)*20)+np.log(log_expression)))\n",
    "# print(80+10/2**11+160*(1*np.log(2)-0.340))\n",
    "if log_expression > 0:\n",
    "    nth2 = (d) +delta/ 2 + (d / epsilon) *  (bx*np.log(2) + np.log(log_expression))\n",
    "    print(\"nth2:\", nth2)\n",
    "else:\n",
    "    print(\"Error: Logarithm argument is not positive.\")\n"
   ]
  },
  {
   "cell_type": "markdown",
   "id": "fc1437a2",
   "metadata": {},
   "source": [
    "# Thresholding"
   ]
  },
  {
   "cell_type": "code",
   "execution_count": 144,
   "id": "af84c970",
   "metadata": {},
   "outputs": [
    {
     "name": "stdout",
     "output_type": "stream",
     "text": [
      "   WAP001  WAP002  WAP003  WAP004  WAP005  WAP006  WAP007  WAP008  WAP009  \\\n",
      "0     100     100     100     100     100     100     100     100     100   \n",
      "1     100     100     100     100     100     100     100     100     100   \n",
      "2     100     100     100     100     100     100     100     -97     100   \n",
      "3     100     100     100     100     100     100     100     100     100   \n",
      "4     100     100     100     100     100     100     100     100     100   \n",
      "\n",
      "   WAP010  ...  SPACEID  RELATIVEPOSITION  USERID  PHONEID   TIMESTAMP  \\\n",
      "0     100  ...      106                 2       2       23  1371713733   \n",
      "1     100  ...      106                 2       2       23  1371713691   \n",
      "2     100  ...      103                 2       2       23  1371714095   \n",
      "3     100  ...      102                 2       2       23  1371713807   \n",
      "4     100  ...      122                 2      11       13  1369909710   \n",
      "\n",
      "          u         noise  wifi_noisycordic  wifi_diffnoise      new_wifi  \n",
      "0  0.963880 -42044.275877     -49585.540177    42353.578746  11121.445158  \n",
      "1  0.617437  -4283.453439     -11820.074639     4588.113207  11121.445158  \n",
      "2  0.086920  27993.962668      20474.810268    27706.771700  20474.943067  \n",
      "3  0.297642   8299.455462        774.885062     8006.846493  11121.445158  \n",
      "4  0.272063   9737.162829       2105.019229     9336.980660  11121.445158  \n",
      "\n",
      "[5 rows x 534 columns]\n"
     ]
    }
   ],
   "source": [
    "import numpy as np\n",
    "\n",
    "# Parameters\n",
    "epsilon1 = 2\n",
    "epsilon_rng = 0.5\n",
    "epsilon2 = 1\n",
    "m = 11000\n",
    "M = 190000\n",
    "B = 1200\n",
    "\n",
    "# Function to calculate n1 and n2 based on B\n",
    "n1=nth1\n",
    "n2=nth2\n",
    "\n",
    "# Generate a random number n with 20 bits\n",
    "n = np.random.uniform(-epsilon_rng, epsilon_rng)\n",
    "\n",
    "\n",
    "# Calculate n1 and n2 based on the initial privacy budget B\n",
    "\n",
    "\n",
    "new_values = []\n",
    "\n",
    "# Sample sensor data requests ri (assuming a stream of requests)\n",
    "requests = np.random.uniform(m - n1, M + n1, size=len(df))  # \n",
    "\n",
    "# Initialize y and remaining privacy budget\n",
    "y = 0\n",
    "remaining_budget = B\n",
    "\n",
    "for x in df['wifi_noisycordic']:\n",
    "    # Sample sensor data requests ri (assuming a stream of requests)\n",
    "    requests = np.random.uniform(m - n1, M + n1, size=len(df))  \n",
    "\n",
    "    # Initialize y and remaining privacy budget\n",
    "    y = 0\n",
    "    remaining_budget = B\n",
    "\n",
    "    # Process each data request\n",
    "    for ri in requests:\n",
    "        if remaining_budget > 0:\n",
    "            tmp = x + n\n",
    "\n",
    "            if m <= tmp <= M:\n",
    "                epsilon = epsilon_rng\n",
    "            elif m - n1 <= tmp < m or M < tmp <= M + n1:\n",
    "                epsilon = epsilon1\n",
    "            else:\n",
    "                epsilon = epsilon2\n",
    "\n",
    "            y = m - n2 if tmp < m - n2 else (M + n2 if tmp > M + n2 else tmp)\n",
    "            remaining_budget -= epsilon\n",
    "        else:\n",
    "            break\n",
    "\n",
    "    # Store the new value in the list\n",
    "    new_values.append(y)\n",
    "\n",
    "# Add the new column 'new_trestbps' to the DataFrame\n",
    "df['new_wifi'] = new_values\n",
    "\n",
    "# Print the DataFrame with the new column\n",
    "print(df.head())"
   ]
  },
  {
   "cell_type": "code",
   "execution_count": 145,
   "id": "02237231",
   "metadata": {},
   "outputs": [
    {
     "name": "stdout",
     "output_type": "stream",
     "text": [
      "Mean Absolute Error (MAE): 4460.750742498224\n",
      "accuracy= 27.87969214061391 %\n"
     ]
    }
   ],
   "source": [
    "mean_new_wifi = df['new_wifi'].mean()\n",
    "\n",
    "# Calculate the absolute differences\n",
    "df['mean_diffthresholding'] = df['new_wifi'].apply(lambda x: abs(x - mean_new_wifi))\n",
    "\n",
    "# Calculate the Mean Absolute Error (MAE)\n",
    "mae = df['mean_diffthresholding'].mean()\n",
    "expected_mean=16000\n",
    "accuracy=(1-abs(mae-expected_mean)/expected_mean)*(100)\n",
    "\n",
    "# Print the Mean Absolute Error (MAE)\n",
    "print(\"Mean Absolute Error (MAE):\", mae)\n",
    "print(\"accuracy=\",accuracy,\"%\")"
   ]
  },
  {
   "cell_type": "code",
   "execution_count": 146,
   "id": "8c9d0ca9",
   "metadata": {},
   "outputs": [
    {
     "name": "stdout",
     "output_type": "stream",
     "text": [
      "Standard Deviation of 'mean_diffthresholdingnoise': 7544.889959069494\n",
      "accuracy 62.87408299224578 %\n"
     ]
    }
   ],
   "source": [
    "import pandas as pd\n",
    "\n",
    "# Assuming 'df' is your DataFrame and 'abs_diffresamplingnoise' is the name of the column\n",
    "# Replace 'df' with your actual DataFrame variable if it's different\n",
    "std_deviation = df['mean_diffthresholding'].std()\n",
    "\n",
    "print(f\"Standard Deviation of 'mean_diffthresholdingnoise': {std_deviation}\")\n",
    "\n",
    "expected_stdofmedian=12000\n",
    "accuracy=(1-abs(std_deviation-expected_stdofmedian)/expected_stdofmedian)*(100)\n",
    "print(\"accuracy\",accuracy,\"%\")\n",
    "\n"
   ]
  },
  {
   "cell_type": "markdown",
   "id": "e027211e",
   "metadata": {},
   "source": [
    "# Resampling"
   ]
  },
  {
   "cell_type": "code",
   "execution_count": 147,
   "id": "dc4d4fb0",
   "metadata": {},
   "outputs": [
    {
     "name": "stderr",
     "output_type": "stream",
     "text": [
      "C:\\Users\\91820\\AppData\\Local\\Temp\\ipykernel_14888\\1568022256.py:17: RuntimeWarning: invalid value encountered in log\n",
      "  ls = np.log(2 * u)\n",
      "C:\\Users\\91820\\AppData\\Local\\Temp\\ipykernel_14888\\1568022256.py:19: RuntimeWarning: invalid value encountered in log\n",
      "  ls = -np.log(2 * (1 - u))\n"
     ]
    },
    {
     "name": "stdout",
     "output_type": "stream",
     "text": [
      "   WAP001  WAP002  WAP003  WAP004  WAP005  WAP006  WAP007  WAP008  WAP009  \\\n",
      "0     100     100     100     100     100     100     100     100     100   \n",
      "1     100     100     100     100     100     100     100     100     100   \n",
      "2     100     100     100     100     100     100     100     -97     100   \n",
      "3     100     100     100     100     100     100     100     100     100   \n",
      "4     100     100     100     100     100     100     100     100     100   \n",
      "\n",
      "   WAP010  ...  RELATIVEPOSITION  USERID  PHONEID   TIMESTAMP         u  \\\n",
      "0     100  ...                 2       2       23  1371713733  0.963880   \n",
      "1     100  ...                 2       2       23  1371713691  0.617437   \n",
      "2     100  ...                 2       2       23  1371714095  0.086920   \n",
      "3     100  ...                 2       2       23  1371713807  0.297642   \n",
      "4     100  ...                 2      11       13  1369909710  0.272063   \n",
      "\n",
      "          noise  wifi_noisycordic  wifi_diffnoise  new_wifi  \\\n",
      "0 -42044.275877     -49585.540177    42353.578746       NaN   \n",
      "1  -4283.453439     -11820.074639     4588.113207       NaN   \n",
      "2  27993.962668      20474.810268    27706.771700       NaN   \n",
      "3   8299.455462        774.885062     8006.846493       NaN   \n",
      "4   9737.162829       2105.019229     9336.980660       NaN   \n",
      "\n",
      "   mean_diffthresholding  \n",
      "0            2622.273767  \n",
      "1            2622.273767  \n",
      "2            6731.224142  \n",
      "3            2622.273767  \n",
      "4            2622.273767  \n",
      "\n",
      "[5 rows x 535 columns]\n"
     ]
    }
   ],
   "source": [
    "import numpy as np\n",
    "\n",
    "# Parameters\n",
    "epsilon1 = 2\n",
    "epsilon_rng = 0.5\n",
    "epsilon2 = 1\n",
    "m = 11000\n",
    "M = 19000\n",
    "B = 1\n",
    "\n",
    "# Function to calculate n1 and n2 based on B\n",
    "n1=nth1\n",
    "n2=nth2\n",
    "\n",
    "# Generate a random number n with 20 bits\n",
    "n = np.random.uniform(-epsilon_rng, epsilon_rng)\n",
    "\n",
    "\n",
    "# Calculate n1 and n2 based on the initial privacy budget B\n",
    "\n",
    "\n",
    "new_values = []\n",
    "\n",
    "# Sample sensor data requests ri (assuming a stream of requests)\n",
    "requests = np.random.uniform(m - n1, M + n1, size=270)  # \n",
    "\n",
    "# Initialize y and remaining privacy budget\n",
    "y = 0\n",
    "remaining_budget = B\n",
    "\n",
    "for x in df['wifi_noisycordic']:\n",
    "    # Sample sensor data requests ri (assuming a stream of requests)\n",
    "    requests = np.random.uniform(m - n1, M + n1, size=270)  \n",
    "\n",
    "    # Initialize y and remaining privacy budget\n",
    "    y = 0\n",
    "    remaining_budget = B\n",
    "\n",
    "    # Process each data request\n",
    "    for ri in requests:\n",
    "        if remaining_budget > 0:\n",
    "            tmp = x + n\n",
    "\n",
    "            if m <= tmp <= M:\n",
    "                epsilon = epsilon_rng\n",
    "            elif m - n1 <= tmp < m or M < tmp <= M + n1:\n",
    "                epsilon = epsilon1\n",
    "            else:\n",
    "                tmp+=calculate_noise(tmp)\n",
    "\n",
    "            y = m - n2 if tmp < m - n2 else (M + n2 if tmp > M + n2 else tmp)\n",
    "            remaining_budget -= epsilon\n",
    "        else:\n",
    "            break\n",
    "\n",
    "    # Store the new value in the list\n",
    "    new_values.append(y)\n",
    "\n",
    "# Add the new column 'new_trestbps' to the DataFrame\n",
    "df['new_wifi'] = new_values\n",
    "\n",
    "# Print the DataFrame with the new column\n",
    "print(df.head())"
   ]
  },
  {
   "cell_type": "code",
   "execution_count": 148,
   "id": "5369ee16",
   "metadata": {},
   "outputs": [
    {
     "name": "stdout",
     "output_type": "stream",
     "text": [
      "Mean Absolute Error (MAE): 16139.61317956973\n",
      "accuracy 99.1274176276892 %\n"
     ]
    }
   ],
   "source": [
    "mean_new_wifiresampling = df['wifi_noisycordic'].median()\n",
    "\n",
    "# Calculate the absolute differences\n",
    "df['mean_diffresamplingnoise'] = df['wifi_noisycordic'].apply(lambda x: abs(x - mean_new_wifiresampling))\n",
    "\n",
    "# Calculate the Mean Absolute Error (MAE)\n",
    "mae = df['mean_diffresamplingnoise'].mean()\n",
    "\n",
    "# Print the Mean Absolute Error (MAE)\n",
    "print(\"Mean Absolute Error (MAE):\", mae)\n",
    "expected_mean=16000\n",
    "accuracy=(1-abs(mae-expected_mean)/expected_mean)*(100)\n",
    "print(\"accuracy\",accuracy,\"%\")"
   ]
  },
  {
   "cell_type": "code",
   "execution_count": 149,
   "id": "f5b6c952",
   "metadata": {},
   "outputs": [
    {
     "name": "stdout",
     "output_type": "stream",
     "text": [
      "Standard Deviation of 'mean_diffresamplingnoise': 16144.814604475088\n",
      "accuracy 65.45987829604093 %\n"
     ]
    }
   ],
   "source": [
    "import pandas as pd\n",
    "\n",
    "# Assuming 'df' is your DataFrame and 'abs_diffresamplingnoise' is the name of the column\n",
    "# Replace 'df' with your actual DataFrame variable if it's different\n",
    "std_deviation = df['mean_diffresamplingnoise'].std()\n",
    "\n",
    "print(f\"Standard Deviation of 'mean_diffresamplingnoise': {std_deviation}\")\n",
    "expected_stdofmedian=12000\n",
    "accuracy=(1-abs(std_deviation-expected_stdofmedian)/expected_stdofmedian)*(100)\n",
    "print(\"accuracy\",accuracy,\"%\")\n"
   ]
  },
  {
   "cell_type": "code",
   "execution_count": null,
   "id": "8c4c1e94",
   "metadata": {},
   "outputs": [],
   "source": []
  }
 ],
 "metadata": {
  "kernelspec": {
   "display_name": "Python 3 (ipykernel)",
   "language": "python",
   "name": "python3"
  },
  "language_info": {
   "codemirror_mode": {
    "name": "ipython",
    "version": 3
   },
   "file_extension": ".py",
   "mimetype": "text/x-python",
   "name": "python",
   "nbconvert_exporter": "python",
   "pygments_lexer": "ipython3",
   "version": "3.9.13"
  }
 },
 "nbformat": 4,
 "nbformat_minor": 5
}
