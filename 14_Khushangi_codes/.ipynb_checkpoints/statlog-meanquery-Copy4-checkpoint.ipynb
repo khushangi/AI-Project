{
 "cells": [
  {
   "cell_type": "code",
   "execution_count": 1,
   "id": "aa8453f7",
   "metadata": {},
   "outputs": [
    {
     "name": "stdout",
     "output_type": "stream",
     "text": [
      "Mean Bp: 131.34444444444443\n"
     ]
    }
   ],
   "source": [
    "import pandas as pd\n",
    "import numpy as np\n",
    "\n",
    "# Define the file path\n",
    "file_path = r\"C:\\Users\\91820\\OneDrive\\Desktop\\Downloads\\satlog dataset\\statlog.csv\"\n",
    "# Read the  dataset from the CSV file\n",
    "df = pd.read_csv(file_path)\n",
    "\n",
    "# Calculate mean for the column\n",
    "mean_bp = df['trestbps'].mean()\n",
    "print(f\"Mean Bp: {mean_bp}\")\n",
    "\n"
   ]
  },
  {
   "cell_type": "markdown",
   "id": "831974ae",
   "metadata": {},
   "source": [
    "# Local Dp"
   ]
  },
  {
   "cell_type": "code",
   "execution_count": 2,
   "id": "61879d4b",
   "metadata": {},
   "outputs": [
    {
     "name": "stdout",
     "output_type": "stream",
     "text": [
      "Mean Absolute Error (MAE): 13.859246329333756\n",
      "accuracy= 95.581009167819 %\n"
     ]
    }
   ],
   "source": [
    "import numpy as np\n",
    "import pandas as pd\n",
    "\n",
    "# Assuming 'df' is your DataFrame containing 'trestbps' and '_noisy' columns\n",
    "\n",
    "# Generate Laplace noise\n",
    "noise = np.random.laplace(loc=0, scale=1/0.5, size=len(df))\n",
    "\n",
    "# Add noise to the '_noisy' column\n",
    "df['_noisy'] = df['trestbps'] + noise\n",
    "\n",
    "# Calculate the mean of the '_noisy' column\n",
    "mean_noisy = df['_noisy'].mean()\n",
    "\n",
    "# Calculate the absolute differences\n",
    "df['abs_difflocaldp'] = np.abs(df['_noisy'] - mean_noisy)\n",
    "\n",
    "# Calculate the Mean Absolute Error (MAE)\n",
    "mae = df['abs_difflocaldp'].mean()\n",
    "\n",
    "# Print the Mean Absolute Error (MAE)\n",
    "print(\"Mean Absolute Error (MAE):\", mae)\n",
    "\n",
    "expected_mean=14.5\n",
    "accuracy=(1-abs(mae-expected_mean)/expected_mean)*(100)\n",
    "print(\"accuracy=\",accuracy,\"%\")\n"
   ]
  },
  {
   "cell_type": "code",
   "execution_count": 3,
   "id": "b2f98294",
   "metadata": {},
   "outputs": [
    {
     "name": "stdout",
     "output_type": "stream",
     "text": [
      "Standard Deviation of 'abs_diffresamplingnoise': 11.402272917016335\n",
      "accuracy= 96.34297348166967 %\n"
     ]
    }
   ],
   "source": [
    "import pandas as pd\n",
    "\n",
    "# Assuming 'df' is your DataFrame and 'abs_diffresamplingnoise' is the name of the column\n",
    "# Replace 'df' with your actual DataFrame variable if it's different\n",
    "std_deviation = df['abs_difflocaldp'].std()\n",
    "\n",
    "print(f\"Standard Deviation of 'abs_diffresamplingnoise': {std_deviation}\")\n",
    "expected_stdofmean=11.0\n",
    "\n",
    "accuracy=(1-abs(std_deviation-expected_stdofmean)/expected_stdofmean)*(100)\n",
    "print(\"accuracy=\",accuracy,\"%\")\n"
   ]
  },
  {
   "cell_type": "markdown",
   "id": "99a3013b",
   "metadata": {},
   "source": [
    "# FxP Baseline"
   ]
  },
  {
   "cell_type": "code",
   "execution_count": 4,
   "id": "f04c1a12",
   "metadata": {},
   "outputs": [
    {
     "name": "stdout",
     "output_type": "stream",
     "text": [
      "Generated Laplace-distributed noise samples:\n",
      "[-2.67954353  0.04741479  3.85618354  1.8192215  -8.47876863 -9.09079258\n",
      "  0.54731166  0.20332926 -1.76231745  0.63013757]\n"
     ]
    }
   ],
   "source": [
    "import numpy as np\n",
    "\n",
    "# Parameters for Laplace distribution\n",
    "loc = 0  # Mean of the Laplace distribution\n",
    "scale = 1 / 0.5  # Scale parameter of the Laplace distribution\n",
    "\n",
    "# Number of samples\n",
    "num_samples = len(df)  # Adjust as needed\n",
    "\n",
    "# Generate two independent uniform random numbers between 0 and 1\n",
    "u1 = np.random.uniform(0, 1, num_samples)\n",
    "u2 = np.random.uniform(0, 1, num_samples)\n",
    "\n",
    "# Apply inverse CDF transformation to generate Laplace-distributed noise\n",
    "noise = scale * np.sign(u1 - 0.5) * np.log(u2)\n",
    "\n",
    "# Print some generated noise samples\n",
    "print(\"Generated Laplace-distributed noise samples:\")\n",
    "print(noise[:10])  # Print first 10 samples as an example\n"
   ]
  },
  {
   "cell_type": "code",
   "execution_count": 5,
   "id": "63566040",
   "metadata": {},
   "outputs": [
    {
     "name": "stdout",
     "output_type": "stream",
     "text": [
      "DataFrame with noisy data:\n",
      "    age  sex   cp  trestbps   chol  fbs  restecg  thalach  exang  oldpeak  \\\n",
      "0  70.0  1.0  4.0     130.0  322.0  0.0      2.0    109.0    0.0      2.4   \n",
      "1  67.0  0.0  3.0     115.0  564.0  0.0      2.0    160.0    0.0      1.6   \n",
      "2  57.0  1.0  2.0     124.0  261.0  0.0      0.0    141.0    0.0      0.3   \n",
      "3  64.0  1.0  4.0     128.0  263.0  0.0      0.0    105.0    1.0      0.2   \n",
      "4  74.0  0.0  2.0     120.0  269.0  0.0      2.0    121.0    1.0      0.2   \n",
      "\n",
      "   slope   ca  thal  presence      _noisy  abs_difflocaldp  trestbps_noisy  \n",
      "0    2.0  3.0   3.0         2  128.240758         2.861194      127.320456  \n",
      "1    2.0  0.0   7.0         1  117.063368        14.038584      115.047415  \n",
      "2    1.0  0.0   7.0         2  125.250953         5.851000      127.856184  \n",
      "3    2.0  1.0   7.0         1  126.052877         5.049075      129.819222  \n",
      "4    1.0  1.0   3.0         1  121.284320         9.817632      111.521231  \n"
     ]
    }
   ],
   "source": [
    "# Add noise to the 'trestbps' column to create 'trestbps_noisy'\n",
    "df['trestbps_noisy'] = df['trestbps'] + noise\n",
    "\n",
    "# Print the first few rows of the DataFrame with the new noisy column\n",
    "print(\"DataFrame with noisy data:\")\n",
    "print(df.head())"
   ]
  },
  {
   "cell_type": "code",
   "execution_count": 8,
   "id": "22143e2b",
   "metadata": {},
   "outputs": [],
   "source": [
    "# Calculate the absolute differences\n",
    "df['abs_difffxp'] = np.abs(df['trestbps_noisy'] - mean_noisy)\n"
   ]
  },
  {
   "cell_type": "code",
   "execution_count": 9,
   "id": "828f712b",
   "metadata": {},
   "outputs": [
    {
     "name": "stdout",
     "output_type": "stream",
     "text": [
      "accuracy= 98.99621103164003 %\n",
      "Mean Absolute Error (MAE): 14.057461966492882\n"
     ]
    }
   ],
   "source": [
    "# Calculate the Mean Absolute Error (MAE)\n",
    "mae = df['abs_difffxp'].mean()\n",
    "\n",
    "expected_meanfxp=14.2\n",
    "\n",
    "accuracy=(1-abs(mae-expected_meanfxp)/expected_meanfxp)*(100)\n",
    "print(\"accuracy=\",accuracy,\"%\")\n",
    "\n",
    "# Print the Mean Absolutexpected_meanfxp=14.2e Error (MAE)\n",
    "print(\"Mean Absolute Error (MAE):\", mae)\n"
   ]
  },
  {
   "cell_type": "code",
   "execution_count": 10,
   "id": "1de0af77",
   "metadata": {},
   "outputs": [
    {
     "name": "stdout",
     "output_type": "stream",
     "text": [
      "Generated Laplace-distributed noise samples:\n",
      "[  50.61210336 -231.21502275  -46.54540739  148.09942161  -13.07873742\n",
      "  -46.71729285   33.69195397   10.26544357    4.89336931 -353.10876506]\n",
      "Mean of the generated noise: -4.5363085154819665\n"
     ]
    }
   ],
   "source": [
    "loc = 0  # Mean of the Laplace distribution\n",
    "scale = 80/ 0.5  # Scale parameter of the Laplace distribution\n",
    "\n",
    "# Number of samples\n",
    "num_samples = len(df)  # Adjust as needed\n",
    "\n",
    "# Generate two independent uniform random numbers between 0 and 1\n",
    "u1 = np.random.uniform(0, 1, num_samples)\n",
    "u2 = np.random.uniform(0, 1, num_samples)\n",
    "\n",
    "# Apply inverse CDF transformation to generate Laplace-distributed noise\n",
    "noise = scale * np.sign(u1 - 0.5) * np.log(u2)\n",
    "\n",
    "# Print some generated noise samples\n",
    "print(\"Generated Laplace-distributed noise samples:\")\n",
    "print(noise[:10])  # Print first 10 samples as an example\n",
    "\n",
    "# Calculate the mean of the noise\n",
    "mean_noise = np.mean(noise)\n",
    "\n",
    "# Print the mean\n",
    "print(\"Mean of the generated noise:\", mean_noise)\n"
   ]
  },
  {
   "cell_type": "code",
   "execution_count": 12,
   "id": "85682830",
   "metadata": {},
   "outputs": [
    {
     "name": "stdout",
     "output_type": "stream",
     "text": [
      "accuracy= 96.2373482693263 %\n",
      "Standard Deviation of 'abs_diffresamplingnoise': 11.310129038643433\n"
     ]
    }
   ],
   "source": [
    "import pandas as pd\n",
    "\n",
    "# Assuming 'df' is your DataFrame and 'abs_diffresamplingnoise' is the name of the column\n",
    "# Replace 'df' with your actual DataFrame variable if it's different\n",
    "\n",
    "expected_stdofmean=10.9\n",
    "accuracy=(1-abs(std_deviation-expected_stdofmean)/expected_stdofmean)*(100)\n",
    "print(\"accuracy=\",accuracy,\"%\")\n",
    "std_deviation = df['abs_difffxp'].std()\n",
    "\n",
    "print(f\"Standard Deviation of 'abs_diffresamplingnoise': {std_deviation}\")\n"
   ]
  },
  {
   "cell_type": "markdown",
   "id": "997c18aa",
   "metadata": {},
   "source": [
    "# DP Box"
   ]
  },
  {
   "cell_type": "code",
   "execution_count": 14,
   "id": "44e35972",
   "metadata": {},
   "outputs": [
    {
     "name": "stdout",
     "output_type": "stream",
     "text": [
      "Noise (n): 239.04186930032736\n"
     ]
    }
   ],
   "source": [
    "##example for a single entry\n",
    "\n",
    "import numpy as np\n",
    "\n",
    "# Parameters\n",
    "ru = 114\n",
    "rl = 180\n",
    "epsilon_in = 0.5\n",
    "\n",
    "# Generate a random number between 0 and 1 using NumPy\n",
    "u = np.random.rand()\n",
    "\n",
    "# Calculate sf (sensitivity factor)\n",
    "sf = (ru - rl) / epsilon_in\n",
    "\n",
    "# Calculate ls (logarithmic scaling)\n",
    "if u < 0.5:\n",
    "    ls = np.log(2 * u)\n",
    "else:\n",
    "    ls = -np.log(2 * (1 - u))\n",
    "\n",
    "# Calculate noise (n)\n",
    "n = sf * ls\n",
    "\n",
    "# Print the noise (n)\n",
    "print(\"Noise (n):\", n)\n"
   ]
  },
  {
   "cell_type": "code",
   "execution_count": 17,
   "id": "93270329",
   "metadata": {},
   "outputs": [
    {
     "name": "stdout",
     "output_type": "stream",
     "text": [
      "New dataset with noisy 'trestbps' column:\n",
      "      age  sex   cp  trestbps   chol  fbs  restecg  thalach  exang  oldpeak  \\\n",
      "0    70.0  1.0  4.0     130.0  322.0  0.0      2.0    109.0    0.0      2.4   \n",
      "1    67.0  0.0  3.0     115.0  564.0  0.0      2.0    160.0    0.0      1.6   \n",
      "2    57.0  1.0  2.0     124.0  261.0  0.0      0.0    141.0    0.0      0.3   \n",
      "3    64.0  1.0  4.0     128.0  263.0  0.0      0.0    105.0    1.0      0.2   \n",
      "4    74.0  0.0  2.0     120.0  269.0  0.0      2.0    121.0    1.0      0.2   \n",
      "..    ...  ...  ...       ...    ...  ...      ...      ...    ...      ...   \n",
      "265  52.0  1.0  3.0     172.0  199.0  1.0      0.0    162.0    0.0      0.5   \n",
      "266  44.0  1.0  2.0     120.0  263.0  0.0      0.0    173.0    0.0      0.0   \n",
      "267  56.0  0.0  2.0     140.0  294.0  0.0      2.0    153.0    0.0      1.3   \n",
      "268  57.0  1.0  4.0     140.0  192.0  0.0      0.0    148.0    0.0      0.4   \n",
      "269  67.0  1.0  4.0     160.0  286.0  0.0      2.0    108.0    1.0      1.5   \n",
      "\n",
      "     slope   ca  thal  presence         u      noise  trestbps_noisycordic  \n",
      "0      2.0  3.0   3.0         2  0.751734  -2.800424            127.199576  \n",
      "1      2.0  0.0   7.0         1  0.225797   3.179884            118.179884  \n",
      "2      1.0  0.0   7.0         2  0.130605   5.369710            129.369710  \n",
      "3      2.0  1.0   7.0         1  0.699015  -2.030193            125.969807  \n",
      "4      1.0  1.0   3.0         1  0.582941  -0.725519            119.274481  \n",
      "..     ...  ...   ...       ...       ...        ...                   ...  \n",
      "265    1.0  0.0   7.0         1  0.599690  -0.889478            171.110522  \n",
      "266    1.0  0.0   7.0         1  0.394618   0.946763            120.946763  \n",
      "267    2.0  0.0   3.0         1  0.499515   0.003883            140.003883  \n",
      "268    2.0  0.0   6.0         1  0.325442   1.717695            141.717695  \n",
      "269    2.0  3.0   3.0         2  0.959518 -10.055032            149.944968  \n",
      "\n",
      "[270 rows x 17 columns]\n"
     ]
    }
   ],
   "source": [
    "import pandas as pd\n",
    "import numpy as np\n",
    "\n",
    "# Load your dataset (assuming it's stored in a CSV file)\n",
    "file_path = r'C:\\Users\\91820\\OneDrive\\Desktop\\Downloads\\satlog dataset\\statlog.csv'\n",
    "df = pd.read_csv(file_path)\n",
    "\n",
    "# Parameters for noise calculation\n",
    "ru = 144\n",
    "rl = 146\n",
    "epsilon_in = 0.5\n",
    "\n",
    "# Function to calculate noise (n) based on the provided formula\n",
    "def calculate_noise(u):\n",
    "    sf = (ru - rl) / epsilon_in\n",
    "    if u < 0.5:\n",
    "        ls = np.log(2 * u)\n",
    "    else:\n",
    "        ls = -np.log(2 * (1 - u))\n",
    "    return sf * ls\n",
    "\n",
    "# Generate a random number between 0 and 1 for each entry in 'trestbps'\n",
    "df['u'] = np.random.rand(len(df))\n",
    "\n",
    "# Calculate noise (n) for each entry based on the random number 'u'\n",
    "df['noise'] = df['u'].apply(calculate_noise)\n",
    "\n",
    "# Add the noise to each entry in 'trestbps' to create a new noisy column\n",
    "df['trestbps_noisycordic'] = df['trestbps'] + df['noise']\n",
    "\n",
    "# Print the new dataset with the noisy 'trestbps' column\n",
    "print(\"New dataset with noisy 'trestbps' column:\")\n",
    "print(df)\n"
   ]
  },
  {
   "cell_type": "code",
   "execution_count": 18,
   "id": "17b65960",
   "metadata": {},
   "outputs": [
    {
     "name": "stdout",
     "output_type": "stream",
     "text": [
      "Mean Absolute Error (MAE): 14.927185229378814\n"
     ]
    }
   ],
   "source": [
    "mean_new_trestbps = df['trestbps_noisycordic'].mean()\n",
    "\n",
    "# Calculate the absolute differences\n",
    "df['abs_diffnoise'] = df['trestbps_noisycordic'].apply(lambda x: abs(x - mean_new_trestbps))\n",
    "\n",
    "# Calculate the Mean Absolute Error (MAE)\n",
    "mae = df['abs_diffnoise'].mean()\n",
    "\n",
    "# Print the Mean Absolute Error (MAE)\n",
    "print(\"Mean Absolute Error (MAE):\", mae)\n",
    "\n"
   ]
  },
  {
   "cell_type": "code",
   "execution_count": 28,
   "id": "fb2fd697",
   "metadata": {},
   "outputs": [
    {
     "name": "stdout",
     "output_type": "stream",
     "text": [
      "nth1: 79.99447971436955\n",
      "Generated Random Number (Decimal): 0.7635076174808669\n"
     ]
    }
   ],
   "source": [
    "import numpy as np\n",
    "\n",
    "# Set a new seed for randomness\n",
    "np.random.seed()\n",
    "\n",
    "# Parameters\n",
    "d = 80\n",
    "bx = 1\n",
    "epsilon = 0.5\n",
    "k = 20  # Number of bits for the random number\n",
    "delta = 10 / 2**10  # Using 10 bits for delta calculation\n",
    "\n",
    "# Generate a random binary number with 20 bits\n",
    "binary_n = ''.join(np.random.choice(['0', '1'], size=k))\n",
    "\n",
    "# Convert the binary number to a decimal between 0 and 1\n",
    "n_decimal = int(binary_n, 2) / (2**k - 1)  # Convert binary to decimal\n",
    "\n",
    "# Calculate nth1 based on the provided formula\n",
    "log_arg = np.exp(epsilon * delta / d) - 1\n",
    "numerator = bx * np.log2(1 + log_arg * (np.exp((n_decimal - 1) * epsilon) - 1))\n",
    "denominator = 1 + np.exp(n_decimal * epsilon)\n",
    "nth1 = d - delta / 2 + d / epsilon * (numerator / denominator)\n",
    "\n",
    "# Print nth1 and the generated random number (decimal)\n",
    "print(\"nth1:\", nth1)\n",
    "print(\"Generated Random Number (Decimal):\", n_decimal)\n"
   ]
  },
  {
   "cell_type": "code",
   "execution_count": 29,
   "id": "42218aca",
   "metadata": {},
   "outputs": [
    {
     "name": "stdout",
     "output_type": "stream",
     "text": [
      "nth2: 367.53273720134627\n"
     ]
    }
   ],
   "source": [
    "import numpy as np\n",
    "\n",
    "# Given parameters\n",
    "d = 80\n",
    "bx = 4\n",
    "epsilon = 0.5\n",
    "delta = 10 / 2**10  # Using 10 bits for delta calculation\n",
    "\n",
    "# Generate a random binary number with 10 bits for n\n",
    "n_decimal = np.random.randint(0, 2**10) / (2**10 - 1)  # Random number between 0 and 1\n",
    "\n",
    "# Calculate the expression inside the logarithm\n",
    "log_expression = np.abs(np.exp(-epsilon) - np.exp(-n_decimal * epsilon))\n",
    "\n",
    "# print(log_expression)\n",
    "# print(np.log(log_expression))\n",
    "\n",
    "# Check if the expression is positive before calculating the logarithm\n",
    "# print(d+(delta/2)+2*d*((np.log(2)*20)+np.log(log_expression)))\n",
    "# print(80+10/2**11+160*(1*np.log(2)-0.340))\n",
    "if log_expression > 0:\n",
    "    nth2 = (d) +delta/ 2 + (d / epsilon) *  (bx*np.log(2) + np.log(log_expression))\n",
    "    print(\"nth2:\", nth2)\n",
    "else:\n",
    "    print(\"Error: Logarithm argument is not positive.\")\n"
   ]
  },
  {
   "cell_type": "markdown",
   "id": "fc1437a2",
   "metadata": {},
   "source": [
    "# Thresholding"
   ]
  },
  {
   "cell_type": "code",
   "execution_count": 42,
   "id": "af84c970",
   "metadata": {},
   "outputs": [
    {
     "name": "stdout",
     "output_type": "stream",
     "text": [
      "    age  sex   cp  trestbps   chol  fbs  restecg  thalach  exang  oldpeak  \\\n",
      "0  70.0  1.0  4.0     130.0  322.0  0.0      2.0    109.0    0.0      2.4   \n",
      "1  67.0  0.0  3.0     115.0  564.0  0.0      2.0    160.0    0.0      1.6   \n",
      "2  57.0  1.0  2.0     124.0  261.0  0.0      0.0    141.0    0.0      0.3   \n",
      "3  64.0  1.0  4.0     128.0  263.0  0.0      0.0    105.0    1.0      0.2   \n",
      "4  74.0  0.0  2.0     120.0  269.0  0.0      2.0    121.0    1.0      0.2   \n",
      "\n",
      "   ...  thal  presence         u     noise  trestbps_noisycordic  \\\n",
      "0  ...   3.0         2  0.751734 -2.800424            127.199576   \n",
      "1  ...   7.0         1  0.225797  3.179884            118.179884   \n",
      "2  ...   7.0         2  0.130605  5.369710            129.369710   \n",
      "3  ...   7.0         1  0.699015 -2.030193            125.969807   \n",
      "4  ...   3.0         1  0.582941 -0.725519            119.274481   \n",
      "\n",
      "   abs_diffnoise  new_trestbps  abs_diffthresholding  new_trestbpsresampling  \\\n",
      "0       4.295648    126.932345              4.295648              127.109150   \n",
      "1      13.315341    117.912652             13.315341              118.089457   \n",
      "2       2.125514    129.102479              2.125514              129.279283   \n",
      "3       5.525417    125.702576              5.525417              125.879381   \n",
      "4      12.220744    119.007249             12.220744              119.184054   \n",
      "\n",
      "   abs_diffresamplingnoise  \n",
      "0                 4.295648  \n",
      "1                13.315341  \n",
      "2                 2.125514  \n",
      "3                 5.525417  \n",
      "4                12.220744  \n",
      "\n",
      "[5 rows x 22 columns]\n"
     ]
    }
   ],
   "source": [
    "import numpy as np\n",
    "\n",
    "# Parameters\n",
    "epsilon1 = 2\n",
    "epsilon_rng = 0.5\n",
    "epsilon2 = 1\n",
    "m = 144\n",
    "M = 146\n",
    "B = 1\n",
    "\n",
    "# Function to calculate n1 and n2 based on B\n",
    "n1=nth1\n",
    "n2=nth2\n",
    "\n",
    "# Generate a random number n with 20 bits\n",
    "n = np.random.uniform(-epsilon_rng, epsilon_rng)\n",
    "\n",
    "\n",
    "# Calculate n1 and n2 based on the initial privacy budget B\n",
    "\n",
    "\n",
    "new_values = []\n",
    "\n",
    "# Sample sensor data requests ri (assuming a stream of requests)\n",
    "requests = np.random.uniform(m - n1, M + n1, size=270)  # \n",
    "\n",
    "# Initialize y and remaining privacy budget\n",
    "y = 0\n",
    "remaining_budget = B\n",
    "\n",
    "for x in df['trestbps_noisycordic']:\n",
    "    # Sample sensor data requests ri (assuming a stream of requests)\n",
    "    requests = np.random.uniform(m - n1, M + n1, size=270)  \n",
    "\n",
    "    # Initialize y and remaining privacy budget\n",
    "    y = 0\n",
    "    remaining_budget = B\n",
    "\n",
    "    # Process each data request\n",
    "    for ri in requests:\n",
    "        if remaining_budget > 0:\n",
    "            tmp = x + n\n",
    "\n",
    "            if m <= tmp <= M:\n",
    "                epsilon = epsilon_rng\n",
    "            elif m - n1 <= tmp < m or M < tmp <= M + n1:\n",
    "                epsilon = epsilon1\n",
    "            else:\n",
    "                epsilon = epsilon2\n",
    "\n",
    "            y = m - n2 if tmp < m - n2 else (M + n2 if tmp > M + n2 else tmp)\n",
    "            remaining_budget -= epsilon\n",
    "        else:\n",
    "            break\n",
    "\n",
    "    # Store the new value in the list\n",
    "    new_values.append(y)\n",
    "\n",
    "# Add the new column 'new_trestbps' to the DataFrame\n",
    "df['new_trestbps'] = new_values\n",
    "\n",
    "# Print the DataFrame with the new column\n",
    "print(df.head())"
   ]
  },
  {
   "cell_type": "code",
   "execution_count": 43,
   "id": "02237231",
   "metadata": {},
   "outputs": [
    {
     "name": "stdout",
     "output_type": "stream",
     "text": [
      "Mean Absolute Error (MAE): 14.92718522937882\n",
      "accuracy= 93.37724836157986 %\n"
     ]
    }
   ],
   "source": [
    "mean_new_trestbps = df['new_trestbps'].mean()\n",
    "\n",
    "# Calculate the absolute differences\n",
    "df['abs_diffthresholding'] = df['new_trestbps'].apply(lambda x: abs(x - mean_new_trestbps))\n",
    "\n",
    "# Calculate the Mean Absolute Error (MAE)\n",
    "mae = df['abs_diffthresholding'].mean()\n",
    "\n",
    "expected_mean=14.0\n",
    "accuracy=(1-abs(mae-expected_mean)/expected_mean)*(100)\n",
    "\n",
    "# Print the Mean Absolute Error (MAE)\n",
    "print(\"Mean Absolute Error (MAE):\", mae)\n",
    "print(\"accuracy=\",accuracy,\"%\")\n"
   ]
  },
  {
   "cell_type": "code",
   "execution_count": 44,
   "id": "8c9d0ca9",
   "metadata": {},
   "outputs": [
    {
     "name": "stdout",
     "output_type": "stream",
     "text": [
      "accuracy 88.26087974172235 %\n",
      "Standard Deviation of 'abs_diffresamplingnoise': 11.956085867635709\n"
     ]
    }
   ],
   "source": [
    "import pandas as pd\n",
    "\n",
    "# Assuming 'df' is your DataFrame and 'abs_diffresamplingnoise' is the name of the column\n",
    "# Replace 'df' with your actual DataFrame variable if it's different\n",
    "std_deviation = df['abs_diffthresholding'].std()\n",
    "\n",
    "expected_stdofmean=10.7\n",
    "accuracy=(1-abs(std_deviation-expected_stdofmean)/expected_stdofmean)*(100)\n",
    "print(\"accuracy\",accuracy,\"%\")\n",
    "\n",
    "\n",
    "print(f\"Standard Deviation of 'abs_diffresamplingnoise': {std_deviation}\")\n"
   ]
  },
  {
   "cell_type": "markdown",
   "id": "e027211e",
   "metadata": {},
   "source": [
    "# Resampling"
   ]
  },
  {
   "cell_type": "code",
   "execution_count": 49,
   "id": "dc4d4fb0",
   "metadata": {},
   "outputs": [
    {
     "name": "stdout",
     "output_type": "stream",
     "text": [
      "    age  sex   cp  trestbps   chol  fbs  restecg  thalach  exang  oldpeak  \\\n",
      "0  70.0  1.0  4.0     130.0  322.0  0.0      2.0    109.0    0.0      2.4   \n",
      "1  67.0  0.0  3.0     115.0  564.0  0.0      2.0    160.0    0.0      1.6   \n",
      "2  57.0  1.0  2.0     124.0  261.0  0.0      0.0    141.0    0.0      0.3   \n",
      "3  64.0  1.0  4.0     128.0  263.0  0.0      0.0    105.0    1.0      0.2   \n",
      "4  74.0  0.0  2.0     120.0  269.0  0.0      2.0    121.0    1.0      0.2   \n",
      "\n",
      "   ...  thal  presence         u     noise  trestbps_noisycordic  \\\n",
      "0  ...   3.0         2  0.751734 -2.800424            127.199576   \n",
      "1  ...   7.0         1  0.225797  3.179884            118.179884   \n",
      "2  ...   7.0         2  0.130605  5.369710            129.369710   \n",
      "3  ...   7.0         1  0.699015 -2.030193            125.969807   \n",
      "4  ...   3.0         1  0.582941 -0.725519            119.274481   \n",
      "\n",
      "   abs_diffnoise  new_trestbps  abs_diffthresholding  new_trestbpsresampling  \\\n",
      "0       4.295648    127.153926              4.295648              127.217309   \n",
      "1      13.315341    118.134233             13.315341              117.681574   \n",
      "2       2.125514    129.324060              2.125514              129.437272   \n",
      "3       5.525417    125.924157              5.525417              126.104463   \n",
      "4      12.220744    119.228830             12.220744              119.458711   \n",
      "\n",
      "   abs_diffresamplingnoise  \n",
      "0                 4.295648  \n",
      "1                13.315341  \n",
      "2                 2.125514  \n",
      "3                 5.525417  \n",
      "4                12.220744  \n",
      "\n",
      "[5 rows x 22 columns]\n"
     ]
    }
   ],
   "source": [
    "import numpy as np\n",
    "\n",
    "# Parameters\n",
    "epsilon1 = 2\n",
    "epsilon_rng = 0.5\n",
    "epsilon2 = 1\n",
    "m = 144\n",
    "M = 146\n",
    "B = 1\n",
    "\n",
    "# Function to calculate n1 and n2 based on B\n",
    "n1=nth1\n",
    "n2=nth2\n",
    "\n",
    "# Generate a random number n with 20 bits\n",
    "n = np.random.uniform(-epsilon_rng, epsilon_rng)\n",
    "\n",
    "\n",
    "# Calculate n1 and n2 based on the initial privacy budget B\n",
    "\n",
    "\n",
    "new_values = []\n",
    "\n",
    "# Sample sensor data requests ri (assuming a stream of requests)\n",
    "requests = np.random.uniform(m - n1, M + n1, size=270)  # \n",
    "\n",
    "# Initialize y and remaining privacy budget\n",
    "y = 0\n",
    "remaining_budget = B\n",
    "\n",
    "for x in df['trestbps_noisycordic']:\n",
    "    # Sample sensor data requests ri (assuming a stream of requests)\n",
    "    requests = np.random.uniform(m - n1, M + n1, size=270)  \n",
    "\n",
    "    # Initialize y and remaining privacy budget\n",
    "    y = 0\n",
    "    remaining_budget = B\n",
    "\n",
    "    # Process each data request\n",
    "    for ri in requests:\n",
    "        if remaining_budget > 0:\n",
    "            tmp = x + n\n",
    "\n",
    "            if m <= tmp <= M:\n",
    "                epsilon = epsilon_rng\n",
    "            elif m - n1 <= tmp < m or M < tmp <= M + n1:\n",
    "                epsilon = epsilon1\n",
    "            else:\n",
    "                tmp+=calculate_noise(tmp)\n",
    "\n",
    "            y = m - n2 if tmp < m - n2 else (M + n2 if tmp > M + n2 else tmp)\n",
    "            remaining_budget -= epsilon\n",
    "        else:\n",
    "            break\n",
    "\n",
    "    # Store the new value in the list\n",
    "    new_values.append(y)\n",
    "\n",
    "# Add the new column 'new_trestbps' to the DataFrame\n",
    "df['new_trestbps'] = new_values\n",
    "\n",
    "# Print the DataFrame with the new column\n",
    "print(df.head())"
   ]
  },
  {
   "cell_type": "code",
   "execution_count": 50,
   "id": "9dd73c9f",
   "metadata": {},
   "outputs": [
    {
     "name": "stdout",
     "output_type": "stream",
     "text": [
      "    age  sex   cp  trestbps   chol  fbs  restecg  thalach  exang  oldpeak  \\\n",
      "0  70.0  1.0  4.0     130.0  322.0  0.0      2.0    109.0    0.0      2.4   \n",
      "1  67.0  0.0  3.0     115.0  564.0  0.0      2.0    160.0    0.0      1.6   \n",
      "2  57.0  1.0  2.0     124.0  261.0  0.0      0.0    141.0    0.0      0.3   \n",
      "3  64.0  1.0  4.0     128.0  263.0  0.0      0.0    105.0    1.0      0.2   \n",
      "4  74.0  0.0  2.0     120.0  269.0  0.0      2.0    121.0    1.0      0.2   \n",
      "\n",
      "   ...  thal  presence         u     noise  trestbps_noisycordic  \\\n",
      "0  ...   3.0         2  0.751734 -2.800424            127.199576   \n",
      "1  ...   7.0         1  0.225797  3.179884            118.179884   \n",
      "2  ...   7.0         2  0.130605  5.369710            129.369710   \n",
      "3  ...   7.0         1  0.699015 -2.030193            125.969807   \n",
      "4  ...   3.0         1  0.582941 -0.725519            119.274481   \n",
      "\n",
      "   abs_diffnoise  new_trestbps  abs_diffthresholding  new_trestbpsresampling  \\\n",
      "0       4.295648    127.153926              4.295648              127.054233   \n",
      "1      13.315341    118.134233             13.315341              118.523941   \n",
      "2       2.125514    129.324060              2.125514              129.847559   \n",
      "3       5.525417    125.924157              5.525417              125.908946   \n",
      "4      12.220744    119.228830             12.220744              119.209998   \n",
      "\n",
      "   abs_diffresamplingnoise  \n",
      "0                 4.295648  \n",
      "1                13.315341  \n",
      "2                 2.125514  \n",
      "3                 5.525417  \n",
      "4                12.220744  \n",
      "\n",
      "[5 rows x 22 columns]\n"
     ]
    }
   ],
   "source": [
    "import numpy as np\n",
    "\n",
    "# Parameters\n",
    "epsilon1 = 2\n",
    "epsilon_rng = 0.5\n",
    "epsilon2 = 1\n",
    "m = 144\n",
    "M = 146\n",
    "B = 1\n",
    "n1=nth1  # Example value for nth1\n",
    "n2=nth2  # Example value for nth2\n",
    "\n",
    "# Function to calculate n1 and n2 based on B\n",
    "\n",
    "\n",
    "# Sample sensor data requests ri (assuming a stream of requests)\n",
    "requests = np.random.uniform(m - n1, M + n1, size=270)\n",
    "\n",
    "# Initialize new_values list\n",
    "new_values = []\n",
    "\n",
    "# Function to calculate noise based on tmp\n",
    "\n",
    "\n",
    "# Process each data request\n",
    "for x in df['trestbps_noisycordic']:\n",
    "    # Sample sensor data requests ri (assuming a stream of requests)\n",
    "    requests = np.random.uniform(m - n1, M + n1, size=270)\n",
    "\n",
    "    # Initialize y and remaining privacy budget\n",
    "    y = 0\n",
    "    remaining_budget = B\n",
    "\n",
    "    # Process each data request\n",
    "    for ri in requests:\n",
    "        if remaining_budget > 0:\n",
    "            tmp = x + np.random.uniform(-epsilon_rng, epsilon_rng)\n",
    "\n",
    "            if m <= tmp <= M:\n",
    "                epsilon = epsilon_rng\n",
    "            elif m - n1 <= tmp < m or M < tmp <= M + n1:\n",
    "                epsilon = epsilon1\n",
    "            else:\n",
    "                # Resample noise until tmp falls within the desired range\n",
    "                while True:\n",
    "                    tmp += calculate_noise(tmp)\n",
    "                    if m <= tmp <= M:\n",
    "                        epsilon = epsilon_rng\n",
    "                        break\n",
    "\n",
    "            y = m - n2 if tmp < m - n2 else (M + n2 if tmp > M + n2 else tmp)\n",
    "            remaining_budget -= epsilon\n",
    "        else:\n",
    "            break\n",
    "\n",
    "    # Store the new value in the list\n",
    "    new_values.append(y)\n",
    "\n",
    "# Add the new column 'new_trestbps' to the DataFrame\n",
    "df['new_trestbpsresampling'] = new_values\n",
    "\n",
    "# Print the DataFrame with the new column\n",
    "print(df.head())\n"
   ]
  },
  {
   "cell_type": "code",
   "execution_count": 51,
   "id": "5369ee16",
   "metadata": {},
   "outputs": [
    {
     "name": "stdout",
     "output_type": "stream",
     "text": [
      "Mean Absolute Error (MAE): 14.932563562725301\n",
      "accuracy 91.79301766141087 %\n"
     ]
    }
   ],
   "source": [
    "mean_new_trestbpsresampling = df['new_trestbpsresampling'].mean()\n",
    "\n",
    "# Calculate the absolute differences\n",
    "df['abs_diffresamplingnoise'] = df['new_trestbpsresampling'].apply(lambda x: abs(x - mean_new_trestbpsresampling))\n",
    "\n",
    "# Calculate the Mean Absolute Error (MAE)\n",
    "mae = df['abs_diffresamplingnoise'].mean()\n",
    "\n",
    "# Print the Mean Absolute Error (MAE)\n",
    "print(\"Mean Absolute Error (MAE):\", mae)\n",
    "\n",
    "expected_mean=13.8\n",
    "accuracy=(1-abs(mae-expected_mean)/expected_mean)*(100)\n",
    "print(\"accuracy\",accuracy,\"%\")"
   ]
  },
  {
   "cell_type": "code",
   "execution_count": 52,
   "id": "f5b6c952",
   "metadata": {},
   "outputs": [
    {
     "name": "stdout",
     "output_type": "stream",
     "text": [
      "Standard Deviation of 'abs_diffresamplingnoise': 11.99013078629582\n",
      "accuracy 87.94270293181475 %\n"
     ]
    }
   ],
   "source": [
    "import pandas as pd\n",
    "\n",
    "# Assuming 'df' is your DataFrame and 'abs_diffresamplingnoise' is the name of the column\n",
    "# Replace 'df' with your actual DataFrame variable if it's different\n",
    "std_deviation = df['abs_diffresamplingnoise'].std()\n",
    "\n",
    "print(f\"Standard Deviation of 'abs_diffresamplingnoise': {std_deviation}\")\n",
    "expected_stdofmedian=10.7\n",
    "accuracy=(1-abs(std_deviation-expected_stdofmean)/expected_stdofmean)*(100)\n",
    "print(\"accuracy\",accuracy,\"%\")\n",
    "\n"
   ]
  },
  {
   "cell_type": "code",
   "execution_count": null,
   "id": "8c4c1e94",
   "metadata": {},
   "outputs": [],
   "source": []
  }
 ],
 "metadata": {
  "kernelspec": {
   "display_name": "Python 3 (ipykernel)",
   "language": "python",
   "name": "python3"
  },
  "language_info": {
   "codemirror_mode": {
    "name": "ipython",
    "version": 3
   },
   "file_extension": ".py",
   "mimetype": "text/x-python",
   "name": "python",
   "nbconvert_exporter": "python",
   "pygments_lexer": "ipython3",
   "version": "3.9.13"
  }
 },
 "nbformat": 4,
 "nbformat_minor": 5
}
