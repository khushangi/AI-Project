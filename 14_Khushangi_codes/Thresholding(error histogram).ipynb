{
 "cells": [
  {
   "cell_type": "code",
   "execution_count": 70,
   "id": "aa8453f7",
   "metadata": {},
   "outputs": [
    {
     "name": "stdout",
     "output_type": "stream",
     "text": [
      "Mean Bp: 131.34444444444443\n"
     ]
    }
   ],
   "source": [
    "import pandas as pd\n",
    "import numpy as np\n",
    "\n",
    "# Define the file path\n",
    "file_path = r\"C:\\Users\\91820\\OneDrive\\Desktop\\Downloads\\satlog dataset\\statlog.csv\"\n",
    "# Read the  dataset from the CSV file\n",
    "df = pd.read_csv(file_path)\n",
    "\n",
    "# Calculate mean for the column\n",
    "mean_bp = df['trestbps'].mean()\n",
    "print(f\"Mean Bp: {mean_bp}\")\n",
    "\n"
   ]
  },
  {
   "cell_type": "markdown",
   "id": "831974ae",
   "metadata": {},
   "source": [
    "# Local Dp"
   ]
  },
  {
   "cell_type": "code",
   "execution_count": 71,
   "id": "61879d4b",
   "metadata": {},
   "outputs": [
    {
     "name": "stdout",
     "output_type": "stream",
     "text": [
      "Mean Absolute Error (MAE): 14.217967804962518\n",
      "accuracy= 98.05495037905185 %\n"
     ]
    }
   ],
   "source": [
    "import numpy as np\n",
    "import pandas as pd\n",
    "\n",
    "# Assuming 'df' is your DataFrame containing 'trestbps' and '_noisy' columns\n",
    "\n",
    "# Generate Laplace noise\n",
    "noise = np.random.laplace(loc=0, scale=1/0.5, size=len(df))\n",
    "\n",
    "# Add noise to the '_noisy' column\n",
    "df['_noisy'] = df['trestbps'] + noise\n",
    "\n",
    "# Calculate the mean of the '_noisy' column\n",
    "mean_noisy = df['_noisy'].mean()\n",
    "\n",
    "# Calculate the absolute differences\n",
    "df['abs_difflocaldp'] = np.abs(df['_noisy'] - mean_noisy)\n",
    "\n",
    "# Calculate the Mean Absolute Error (MAE)\n",
    "mae = df['abs_difflocaldp'].mean()\n",
    "\n",
    "# Print the Mean Absolute Error (MAE)\n",
    "print(\"Mean Absolute Error (MAE):\", mae)\n",
    "\n",
    "expected_mean=14.5\n",
    "accuracy=(1-abs(mae-expected_mean)/expected_mean)*(100)\n",
    "print(\"accuracy=\",accuracy,\"%\")\n"
   ]
  },
  {
   "cell_type": "code",
   "execution_count": 72,
   "id": "b2f98294",
   "metadata": {},
   "outputs": [
    {
     "name": "stdout",
     "output_type": "stream",
     "text": [
      "Standard Deviation of 'abs_diffresamplingnoise': 11.354936205003543\n",
      "accuracy= 96.77330722724051 %\n"
     ]
    }
   ],
   "source": [
    "import pandas as pd\n",
    "\n",
    "# Assuming 'df' is your DataFrame and 'abs_diffresamplingnoise' is the name of the column\n",
    "# Replace 'df' with your actual DataFrame variable if it's different\n",
    "std_deviation = df['abs_difflocaldp'].std()\n",
    "\n",
    "print(f\"Standard Deviation of 'abs_diffresamplingnoise': {std_deviation}\")\n",
    "expected_stdofmean=11.0\n",
    "\n",
    "accuracy=(1-abs(std_deviation-expected_stdofmean)/expected_stdofmean)*(100)\n",
    "print(\"accuracy=\",accuracy,\"%\")\n"
   ]
  },
  {
   "cell_type": "markdown",
   "id": "99a3013b",
   "metadata": {},
   "source": [
    "# FxP Baseline"
   ]
  },
  {
   "cell_type": "code",
   "execution_count": 73,
   "id": "f04c1a12",
   "metadata": {},
   "outputs": [
    {
     "name": "stdout",
     "output_type": "stream",
     "text": [
      "Generated Laplace-distributed noise samples:\n",
      "[ 0.87050601 -6.39968109  0.2181443  -0.28568663 -0.1822383   0.32766957\n",
      "  0.25744892 -0.52131317 -1.73465224  2.59039682]\n"
     ]
    }
   ],
   "source": [
    "import numpy as np\n",
    "\n",
    "# Parameters for Laplace distribution\n",
    "loc = 0  # Mean of the Laplace distribution\n",
    "scale = 1 / 0.5  # Scale parameter of the Laplace distribution\n",
    "\n",
    "# Number of samples\n",
    "num_samples = len(df)  # Adjust as needed\n",
    "\n",
    "# Generate two independent uniform random numbers between 0 and 1\n",
    "u1 = np.random.uniform(0, 1, num_samples)\n",
    "u2 = np.random.uniform(0, 1, num_samples)\n",
    "\n",
    "# Apply inverse CDF transformation to generate Laplace-distributed noise\n",
    "noise = scale * np.sign(u1 - 0.5) * np.log(u2)\n",
    "\n",
    "# Print some generated noise samples\n",
    "print(\"Generated Laplace-distributed noise samples:\")\n",
    "print(noise[:10])  # Print first 10 samples as an example\n"
   ]
  },
  {
   "cell_type": "code",
   "execution_count": 74,
   "id": "63566040",
   "metadata": {},
   "outputs": [
    {
     "name": "stdout",
     "output_type": "stream",
     "text": [
      "DataFrame with noisy data:\n",
      "    age  sex   cp  trestbps   chol  fbs  restecg  thalach  exang  oldpeak  \\\n",
      "0  70.0  1.0  4.0     130.0  322.0  0.0      2.0    109.0    0.0      2.4   \n",
      "1  67.0  0.0  3.0     115.0  564.0  0.0      2.0    160.0    0.0      1.6   \n",
      "2  57.0  1.0  2.0     124.0  261.0  0.0      0.0    141.0    0.0      0.3   \n",
      "3  64.0  1.0  4.0     128.0  263.0  0.0      0.0    105.0    1.0      0.2   \n",
      "4  74.0  0.0  2.0     120.0  269.0  0.0      2.0    121.0    1.0      0.2   \n",
      "\n",
      "   slope   ca  thal  presence      _noisy  abs_difflocaldp  trestbps_noisy  \n",
      "0    2.0  3.0   3.0         2  129.963120         1.515079      130.870506  \n",
      "1    2.0  0.0   7.0         1  118.060092        13.418106      108.600319  \n",
      "2    1.0  0.0   7.0         2  122.148034         9.330165      124.218144  \n",
      "3    2.0  1.0   7.0         1  131.751005         0.272807      127.714313  \n",
      "4    1.0  1.0   3.0         1  128.101174         3.377024      119.817762  \n"
     ]
    }
   ],
   "source": [
    "# Add noise to the 'trestbps' column to create 'trestbps_noisy'\n",
    "df['trestbps_noisy'] = df['trestbps'] + noise\n",
    "\n",
    "# Print the first few rows of the DataFrame with the new noisy column\n",
    "print(\"DataFrame with noisy data:\")\n",
    "print(df.head())"
   ]
  },
  {
   "cell_type": "code",
   "execution_count": 75,
   "id": "22143e2b",
   "metadata": {},
   "outputs": [],
   "source": [
    "# Calculate the absolute differences\n",
    "df['abs_difffxp'] = np.abs(df['trestbps_noisy'] - mean_noisy)\n"
   ]
  },
  {
   "cell_type": "code",
   "execution_count": 76,
   "id": "828f712b",
   "metadata": {},
   "outputs": [
    {
     "name": "stdout",
     "output_type": "stream",
     "text": [
      "accuracy= 99.02390623454686 %\n",
      "Mean Absolute Error (MAE): 14.338605314694346\n"
     ]
    }
   ],
   "source": [
    "# Calculate the Mean Absolute Error (MAE)\n",
    "mae = df['abs_difffxp'].mean()\n",
    "\n",
    "expected_meanfxp=14.2\n",
    "\n",
    "accuracy=(1-abs(mae-expected_meanfxp)/expected_meanfxp)*(100)\n",
    "print(\"accuracy=\",accuracy,\"%\")\n",
    "\n",
    "# Print the Mean Absolutexpected_meanfxp=14.2e Error (MAE)\n",
    "print(\"Mean Absolute Error (MAE):\", mae)\n"
   ]
  },
  {
   "cell_type": "code",
   "execution_count": 77,
   "id": "1de0af77",
   "metadata": {},
   "outputs": [
    {
     "name": "stdout",
     "output_type": "stream",
     "text": [
      "Generated Laplace-distributed noise samples:\n",
      "[ -83.2580936   530.0494791   253.70180476  152.61222541 -216.58578286\n",
      "  162.98089795   51.63649956   16.09638079  255.26279306 -330.87998079]\n",
      "Mean of the generated noise: 13.014785241335298\n"
     ]
    }
   ],
   "source": [
    "loc = 0  # Mean of the Laplace distribution\n",
    "scale = 80/ 0.5  # Scale parameter of the Laplace distribution\n",
    "\n",
    "# Number of samples\n",
    "num_samples = len(df)  # Adjust as needed\n",
    "\n",
    "# Generate two independent uniform random numbers between 0 and 1\n",
    "u1 = np.random.uniform(0, 1, num_samples)\n",
    "u2 = np.random.uniform(0, 1, num_samples)\n",
    "\n",
    "# Apply inverse CDF transformation to generate Laplace-distributed noise\n",
    "noise = scale * np.sign(u1 - 0.5) * np.log(u2)\n",
    "\n",
    "# Print some generated noise samples\n",
    "print(\"Generated Laplace-distributed noise samples:\")\n",
    "print(noise[:10])  # Print first 10 samples as an example\n",
    "\n",
    "# Calculate the mean of the noise\n",
    "mean_noise = np.mean(noise)\n",
    "\n",
    "# Print the mean\n",
    "print(\"Mean of the generated noise:\", mean_noise)\n"
   ]
  },
  {
   "cell_type": "code",
   "execution_count": 78,
   "id": "85682830",
   "metadata": {},
   "outputs": [
    {
     "name": "stdout",
     "output_type": "stream",
     "text": [
      "accuracy= 95.82627334859136 %\n",
      "Standard Deviation of 'abs_diffresamplingnoise': 11.655876778938937\n"
     ]
    }
   ],
   "source": [
    "import pandas as pd\n",
    "\n",
    "# Assuming 'df' is your DataFrame and 'abs_diffresamplingnoise' is the name of the column\n",
    "# Replace 'df' with your actual DataFrame variable if it's different\n",
    "\n",
    "expected_stdofmean=10.9\n",
    "accuracy=(1-abs(std_deviation-expected_stdofmean)/expected_stdofmean)*(100)\n",
    "print(\"accuracy=\",accuracy,\"%\")\n",
    "std_deviation = df['abs_difffxp'].std()\n",
    "\n",
    "print(f\"Standard Deviation of 'abs_diffresamplingnoise': {std_deviation}\")\n"
   ]
  },
  {
   "cell_type": "markdown",
   "id": "997c18aa",
   "metadata": {},
   "source": [
    "# DP Box"
   ]
  },
  {
   "cell_type": "code",
   "execution_count": 79,
   "id": "44e35972",
   "metadata": {},
   "outputs": [
    {
     "name": "stdout",
     "output_type": "stream",
     "text": [
      "Noise (n): 2.025160571347943\n"
     ]
    }
   ],
   "source": [
    "##example for a single entry\n",
    "\n",
    "import numpy as np\n",
    "\n",
    "# Parameters\n",
    "ru = 114\n",
    "rl = 180\n",
    "epsilon_in = 0.5\n",
    "\n",
    "# Generate a random number between 0 and 1 using NumPy\n",
    "u = np.random.rand()\n",
    "\n",
    "# Calculate sf (sensitivity factor)\n",
    "sf = (ru - rl) / epsilon_in\n",
    "\n",
    "# Calculate ls (logarithmic scaling)\n",
    "if u < 0.5:\n",
    "    ls = np.log(2 * u)\n",
    "else:\n",
    "    ls = -np.log(2 * (1 - u))\n",
    "\n",
    "# Calculate noise (n)\n",
    "n = sf * ls\n",
    "\n",
    "# Print the noise (n)\n",
    "print(\"Noise (n):\", n)\n"
   ]
  },
  {
   "cell_type": "code",
   "execution_count": 80,
   "id": "93270329",
   "metadata": {},
   "outputs": [
    {
     "name": "stdout",
     "output_type": "stream",
     "text": [
      "New dataset with noisy 'trestbps' column:\n",
      "      age  sex   cp  trestbps   chol  fbs  restecg  thalach  exang  oldpeak  \\\n",
      "0    70.0  1.0  4.0     130.0  322.0  0.0      2.0    109.0    0.0      2.4   \n",
      "1    67.0  0.0  3.0     115.0  564.0  0.0      2.0    160.0    0.0      1.6   \n",
      "2    57.0  1.0  2.0     124.0  261.0  0.0      0.0    141.0    0.0      0.3   \n",
      "3    64.0  1.0  4.0     128.0  263.0  0.0      0.0    105.0    1.0      0.2   \n",
      "4    74.0  0.0  2.0     120.0  269.0  0.0      2.0    121.0    1.0      0.2   \n",
      "..    ...  ...  ...       ...    ...  ...      ...      ...    ...      ...   \n",
      "265  52.0  1.0  3.0     172.0  199.0  1.0      0.0    162.0    0.0      0.5   \n",
      "266  44.0  1.0  2.0     120.0  263.0  0.0      0.0    173.0    0.0      0.0   \n",
      "267  56.0  0.0  2.0     140.0  294.0  0.0      2.0    153.0    0.0      1.3   \n",
      "268  57.0  1.0  4.0     140.0  192.0  0.0      0.0    148.0    0.0      0.4   \n",
      "269  67.0  1.0  4.0     160.0  286.0  0.0      2.0    108.0    1.0      1.5   \n",
      "\n",
      "     slope   ca  thal  presence         u      noise  trestbps_noisycordic  \n",
      "0      2.0  3.0   3.0         2  0.523620  -0.193573            129.806427  \n",
      "1      2.0  0.0   7.0         1  0.584146  -0.737094            114.262906  \n",
      "2      1.0  0.0   7.0         2  0.366205   1.245656            125.245656  \n",
      "3      2.0  1.0   7.0         1  0.014560  14.145342            142.145342  \n",
      "4      1.0  1.0   3.0         1  0.654201  -1.475000            118.525000  \n",
      "..     ...  ...   ...       ...       ...        ...                   ...  \n",
      "265    1.0  0.0   7.0         1  0.253381   2.718858            174.718858  \n",
      "266    1.0  0.0   7.0         1  0.492337   0.061776            120.061776  \n",
      "267    2.0  0.0   3.0         1  0.865598  -5.255085            134.744915  \n",
      "268    2.0  0.0   6.0         1  0.094856   6.648994            146.648994  \n",
      "269    2.0  3.0   3.0         2  0.363579   1.274444            161.274444  \n",
      "\n",
      "[270 rows x 17 columns]\n"
     ]
    }
   ],
   "source": [
    "import pandas as pd\n",
    "import numpy as np\n",
    "\n",
    "# Load your dataset (assuming it's stored in a CSV file)\n",
    "file_path = r'C:\\Users\\91820\\OneDrive\\Desktop\\Downloads\\satlog dataset\\statlog.csv'\n",
    "df = pd.read_csv(file_path)\n",
    "\n",
    "# Parameters for noise calculation\n",
    "ru = 144\n",
    "rl = 146\n",
    "epsilon_in = 0.5\n",
    "\n",
    "# Function to calculate noise (n) based on the provided formula\n",
    "def calculate_noise(u):\n",
    "    sf = (ru - rl) / epsilon_in\n",
    "    if u < 0.5:\n",
    "        ls = np.log(2 * u)\n",
    "    else:\n",
    "        ls = -np.log(2 * (1 - u))\n",
    "    return sf * ls\n",
    "\n",
    "# Generate a random number between 0 and 1 for each entry in 'trestbps'\n",
    "df['u'] = np.random.rand(len(df))\n",
    "\n",
    "# Calculate noise (n) for each entry based on the random number 'u'\n",
    "df['noise'] = df['u'].apply(calculate_noise)\n",
    "\n",
    "# Add the noise to each entry in 'trestbps' to create a new noisy column\n",
    "df['trestbps_noisycordic'] = df['trestbps'] + df['noise']\n",
    "\n",
    "# Print the new dataset with the noisy 'trestbps' column\n",
    "print(\"New dataset with noisy 'trestbps' column:\")\n",
    "print(df)\n"
   ]
  },
  {
   "cell_type": "code",
   "execution_count": 81,
   "id": "17b65960",
   "metadata": {},
   "outputs": [
    {
     "name": "stdout",
     "output_type": "stream",
     "text": [
      "Mean Absolute Error (MAE): 14.394815844707407\n"
     ]
    }
   ],
   "source": [
    "mean_new_trestbps = df['trestbps_noisycordic'].mean()\n",
    "\n",
    "# Calculate the absolute differences\n",
    "df['abs_diffnoise'] = df['trestbps_noisycordic'].apply(lambda x: abs(x - mean_new_trestbps))\n",
    "\n",
    "# Calculate the Mean Absolute Error (MAE)\n",
    "mae = df['abs_diffnoise'].mean()\n",
    "\n",
    "# Print the Mean Absolute Error (MAE)\n",
    "print(\"Mean Absolute Error (MAE):\", mae)\n",
    "\n"
   ]
  },
  {
   "cell_type": "code",
   "execution_count": 82,
   "id": "fb2fd697",
   "metadata": {},
   "outputs": [
    {
     "name": "stdout",
     "output_type": "stream",
     "text": [
      "nth1: 79.99474179530624\n",
      "Generated Random Number (Decimal): 0.8600081062394201\n"
     ]
    }
   ],
   "source": [
    "import numpy as np\n",
    "\n",
    "# Set a new seed for randomness\n",
    "np.random.seed()\n",
    "\n",
    "# Parameters\n",
    "d = 80\n",
    "bx = 1\n",
    "epsilon = 0.5\n",
    "k = 20  # Number of bits for the random number\n",
    "delta = 10 / 2**10  # Using 10 bits for delta calculation\n",
    "\n",
    "# Generate a random binary number with 20 bits\n",
    "binary_n = ''.join(np.random.choice(['0', '1'], size=k))\n",
    "\n",
    "# Convert the binary number to a decimal between 0 and 1\n",
    "n_decimal = int(binary_n, 2) / (2**k - 1)  # Convert binary to decimal\n",
    "\n",
    "# Calculate nth1 based on the provided formula\n",
    "log_arg = np.exp(epsilon * delta / d) - 1\n",
    "numerator = bx * np.log2(1 + log_arg * (np.exp((n_decimal - 1) * epsilon) - 1))\n",
    "denominator = 1 + np.exp(n_decimal * epsilon)\n",
    "nth1 = d - delta / 2 + d / epsilon * (numerator / denominator)\n",
    "\n",
    "# Print nth1 and the generated random number (decimal)\n",
    "print(\"nth1:\", nth1)\n",
    "print(\"Generated Random Number (Decimal):\", n_decimal)\n"
   ]
  },
  {
   "cell_type": "code",
   "execution_count": 83,
   "id": "42218aca",
   "metadata": {},
   "outputs": [
    {
     "name": "stdout",
     "output_type": "stream",
     "text": [
      "nth2: 236.31047601058265\n"
     ]
    }
   ],
   "source": [
    "import numpy as np\n",
    "\n",
    "# Given parameters\n",
    "d = 80\n",
    "bx = 4\n",
    "epsilon = 0.5\n",
    "delta = 10 / 2**10  # Using 10 bits for delta calculation\n",
    "\n",
    "# Generate a random binary number with 10 bits for n\n",
    "n_decimal = np.random.randint(0, 2**10) / (2**10 - 1)  # Random number between 0 and 1\n",
    "\n",
    "# Calculate the expression inside the logarithm\n",
    "log_expression = np.abs(np.exp(-epsilon) - np.exp(-n_decimal * epsilon))\n",
    "\n",
    "# print(log_expression)\n",
    "# print(np.log(log_expression))\n",
    "\n",
    "# Check if the expression is positive before calculating the logarithm\n",
    "# print(d+(delta/2)+2*d*((np.log(2)*20)+np.log(log_expression)))\n",
    "# print(80+10/2**11+160*(1*np.log(2)-0.340))\n",
    "if log_expression > 0:\n",
    "    nth2 = (d) +delta/ 2 + (d / epsilon) *  (bx*np.log(2) + np.log(log_expression))\n",
    "    print(\"nth2:\", nth2)\n",
    "else:\n",
    "    print(\"Error: Logarithm argument is not positive.\")\n"
   ]
  },
  {
   "cell_type": "markdown",
   "id": "fc1437a2",
   "metadata": {},
   "source": [
    "# Thresholding"
   ]
  },
  {
   "cell_type": "code",
   "execution_count": 84,
   "id": "af84c970",
   "metadata": {},
   "outputs": [
    {
     "name": "stdout",
     "output_type": "stream",
     "text": [
      "    age  sex   cp  trestbps   chol  fbs  restecg  thalach  exang  oldpeak  \\\n",
      "0  70.0  1.0  4.0     130.0  322.0  0.0      2.0    109.0    0.0      2.4   \n",
      "1  67.0  0.0  3.0     115.0  564.0  0.0      2.0    160.0    0.0      1.6   \n",
      "2  57.0  1.0  2.0     124.0  261.0  0.0      0.0    141.0    0.0      0.3   \n",
      "3  64.0  1.0  4.0     128.0  263.0  0.0      0.0    105.0    1.0      0.2   \n",
      "4  74.0  0.0  2.0     120.0  269.0  0.0      2.0    121.0    1.0      0.2   \n",
      "\n",
      "   slope   ca  thal  presence         u      noise  trestbps_noisycordic  \\\n",
      "0    2.0  3.0   3.0         2  0.523620  -0.193573            129.806427   \n",
      "1    2.0  0.0   7.0         1  0.584146  -0.737094            114.262906   \n",
      "2    1.0  0.0   7.0         2  0.366205   1.245656            125.245656   \n",
      "3    2.0  1.0   7.0         1  0.014560  14.145342            142.145342   \n",
      "4    1.0  1.0   3.0         1  0.654201  -1.475000            118.525000   \n",
      "\n",
      "   abs_diffnoise  new_trestbps  \n",
      "0       1.745813    130.203233  \n",
      "1      17.289334    114.659712  \n",
      "2       6.306584    125.642463  \n",
      "3      10.593102    142.542148  \n",
      "4      13.027240    118.921806  \n"
     ]
    }
   ],
   "source": [
    "import numpy as np\n",
    "\n",
    "# Parameters\n",
    "epsilon1 = 2\n",
    "epsilon_rng = 0.5\n",
    "epsilon2 = 1\n",
    "m = 144\n",
    "M = 146\n",
    "B = 1\n",
    "\n",
    "# Function to calculate n1 and n2 based on B\n",
    "n1=nth1\n",
    "n2=nth2\n",
    "\n",
    "# Generate a random number n with 20 bits\n",
    "n = np.random.uniform(-epsilon_rng, epsilon_rng)\n",
    "\n",
    "\n",
    "# Calculate n1 and n2 based on the initial privacy budget B\n",
    "\n",
    "\n",
    "new_values = []\n",
    "\n",
    "# Sample sensor data requests ri (assuming a stream of requests)\n",
    "requests = np.random.uniform(m - n1, M + n1, size=270)  # \n",
    "\n",
    "# Initialize y and remaining privacy budget\n",
    "y = 0\n",
    "remaining_budget = B\n",
    "\n",
    "for x in df['trestbps_noisycordic']:\n",
    "    # Sample sensor data requests ri (assuming a stream of requests)\n",
    "    requests = np.random.uniform(m - n1, M + n1, size=270)  \n",
    "\n",
    "    # Initialize y and remaining privacy budget\n",
    "    y = 0\n",
    "    remaining_budget = B\n",
    "\n",
    "    # Process each data request\n",
    "    for ri in requests:\n",
    "        if remaining_budget > 0:\n",
    "            tmp = x + n\n",
    "\n",
    "            if m <= tmp <= M:\n",
    "                epsilon = epsilon_rng\n",
    "            elif m - n1 <= tmp < m or M < tmp <= M + n1:\n",
    "                epsilon = epsilon1\n",
    "            else:\n",
    "                epsilon = epsilon2\n",
    "\n",
    "            y = m - n2 if tmp < m - n2 else (M + n2 if tmp > M + n2 else tmp)\n",
    "            remaining_budget -= epsilon\n",
    "        else:\n",
    "            break\n",
    "\n",
    "    # Store the new value in the list\n",
    "    new_values.append(y)\n",
    "\n",
    "# Add the new column 'new_trestbps' to the DataFrame\n",
    "df['new_trestbps'] = new_values\n",
    "\n",
    "# Print the DataFrame with the new column\n",
    "print(df.head())"
   ]
  },
  {
   "cell_type": "code",
   "execution_count": 85,
   "id": "02237231",
   "metadata": {},
   "outputs": [
    {
     "name": "stdout",
     "output_type": "stream",
     "text": [
      "Mean Absolute Error (MAE): 14.394815844707361\n",
      "accuracy= 97.17988682351884 %\n"
     ]
    }
   ],
   "source": [
    "mean_new_trestbps = df['new_trestbps'].mean()\n",
    "\n",
    "# Calculate the absolute differences\n",
    "df['abs_diffthresholding'] = df['new_trestbps'].apply(lambda x: abs(x - mean_new_trestbps))\n",
    "\n",
    "# Calculate the Mean Absolute Error (MAE)\n",
    "mae = df['abs_diffthresholding'].mean()\n",
    "\n",
    "expected_mean=14.0\n",
    "accuracy=(1-abs(mae-expected_mean)/expected_mean)*(100)\n",
    "\n",
    "# Print the Mean Absolute Error (MAE)\n",
    "print(\"Mean Absolute Error (MAE):\", mae)\n",
    "print(\"accuracy=\",accuracy,\"%\")\n"
   ]
  },
  {
   "cell_type": "code",
   "execution_count": 86,
   "id": "8c9d0ca9",
   "metadata": {},
   "outputs": [
    {
     "name": "stdout",
     "output_type": "stream",
     "text": [
      "accuracy 83.71975773317422 %\n",
      "Standard Deviation of 'abs_diffresamplingnoise': 12.441985922550359\n"
     ]
    }
   ],
   "source": [
    "import pandas as pd\n",
    "\n",
    "# Assuming 'df' is your DataFrame and 'abs_diffresamplingnoise' is the name of the column\n",
    "# Replace 'df' with your actual DataFrame variable if it's different\n",
    "std_deviation = df['abs_diffthresholding'].std()\n",
    "\n",
    "expected_stdofmean=10.7\n",
    "accuracy=(1-abs(std_deviation-expected_stdofmean)/expected_stdofmean)*(100)\n",
    "print(\"accuracy\",accuracy,\"%\")\n",
    "\n",
    "\n",
    "print(f\"Standard Deviation of 'abs_diffresamplingnoise': {std_deviation}\")\n"
   ]
  },
  {
   "cell_type": "code",
   "execution_count": 87,
   "id": "f07d3db4",
   "metadata": {},
   "outputs": [
    {
     "data": {
      "image/png": "[encoded data removed]",
      "text/plain": [
       "<Figure size 1000x500 with 2 Axes>"
      ]
     },
     "metadata": {},
     "output_type": "display_data"
    }
   ],
   "source": [
    "import numpy as np\n",
    "import pandas as pd\n",
    "import matplotlib.pyplot as plt\n",
    "\n",
    "# Initialize an empty DataFrame (replace this with your actual DataFrame creation)\n",
    "df = pd.DataFrame(np.random.randn(100, 1), columns=['new_trestbps'])\n",
    "\n",
    "# Parameters\n",
    "expected_mean = 14.0\n",
    "expected_stdofmean = 10.7\n",
    "num_iterations = 100\n",
    "\n",
    "# Initialize lists to store errors for each iteration\n",
    "mae_errors = []\n",
    "std_errors = []\n",
    "\n",
    "for _ in range(num_iterations):\n",
    "    # Generate random data for 'new_trestbps' column (replace this with your actual data generation)\n",
    "    df['new_trestbps'] = np.random.randn(100)\n",
    "\n",
    "    # Calculate the mean of 'new_trestbps'\n",
    "    mean_new_trestbps = df['new_trestbps'].mean()\n",
    "\n",
    "    # Calculate the absolute differences for MAE\n",
    "    df['abs_diffthresholding'] = df['new_trestbps'].apply(lambda x: abs(x - mean_new_trestbps))\n",
    "\n",
    "    # Calculate the Mean Absolute Error (MAE)\n",
    "    mae = df['abs_diffthresholding'].mean()\n",
    "    mae_errors.append(mae)\n",
    "\n",
    "    # Calculate the standard deviation\n",
    "    std_deviation = df['abs_diffthresholding'].std()\n",
    "    std_errors.append(std_deviation)\n",
    "\n",
    "# Plot the errors for MAE and standard deviation in separate histograms\n",
    "plt.figure(figsize=(10, 5))\n",
    "\n",
    "# Plot MAE errors\n",
    "plt.subplot(1, 2, 1)\n",
    "plt.hist(np.array(mae_errors) - expected_mean, bins=50, edgecolor='black')\n",
    "plt.xlabel('MAE Error (MAE - Expected Mean)')\n",
    "plt.ylabel('Frequency')\n",
    "plt.title('Distribution of MAE Errors')\n",
    "plt.grid(True)\n",
    "\n",
    "# Plot standard deviation errors\n",
    "plt.subplot(1, 2, 2)\n",
    "plt.hist(np.array(std_errors) - expected_stdofmean, bins=50, edgecolor='black')\n",
    "plt.xlabel('Standard Deviation Error (Std Deviation - Expected Std)')\n",
    "plt.ylabel('Frequency')\n",
    "plt.title('Distribution of Standard Deviation Errors')\n",
    "plt.grid(True)\n",
    "\n",
    "# Adjust layout and show the plots\n",
    "plt.tight_layout()\n",
    "plt.show()\n"
   ]
  }
 ],
 "metadata": {
  "kernelspec": {
   "display_name": "Python 3 (ipykernel)",
   "language": "python",
   "name": "python3"
  },
  "language_info": {
   "codemirror_mode": {
    "name": "ipython",
    "version": 3
   },
   "file_extension": ".py",
   "mimetype": "text/x-python",
   "name": "python",
   "nbconvert_exporter": "python",
   "pygments_lexer": "ipython3",
   "version": "3.9.13"
  }
 },
 "nbformat": 4,
 "nbformat_minor": 5
}
